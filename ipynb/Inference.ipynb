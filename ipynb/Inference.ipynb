{
 "cells": [
  {
   "cell_type": "markdown",
   "metadata": {},
   "source": [
    "## Setting ()"
   ]
  },
  {
   "cell_type": "code",
   "execution_count": 5,
   "metadata": {},
   "outputs": [
    {
     "name": "stdout",
     "output_type": "stream",
     "text": [
      "Looking in indexes: http://ftp.daumkakao.com/pypi/simple\n",
      "Requirement already satisfied: nibabel in /usr/local/lib/python3.8/dist-packages (3.2.1)\n",
      "Requirement already satisfied: packaging>=14.3 in /usr/local/lib/python3.8/dist-packages (from nibabel) (21.2)\n",
      "Requirement already satisfied: numpy>=1.14 in /usr/local/lib/python3.8/dist-packages (from nibabel) (1.21.3)\n",
      "Requirement already satisfied: pyparsing<3,>=2.0.2 in /usr/local/lib/python3.8/dist-packages (from packaging>=14.3->nibabel) (2.4.7)\n",
      "\u001b[33mWARNING: You are using pip version 20.2.4; however, version 21.3.1 is available.\n",
      "You should consider upgrading via the '/usr/bin/python3 -m pip install --upgrade pip' command.\u001b[0m\n",
      "Looking in indexes: http://ftp.daumkakao.com/pypi/simple\n",
      "Collecting SimpleITK\n",
      "  Downloading http://mirror.kakao.com/pypi/packages/94/82/3d9993548359b031bdba679cab7562cdd7380e829924e6c6ce90237de700/SimpleITK-2.1.1-cp38-cp38-manylinux_2_12_x86_64.manylinux2010_x86_64.whl (48.4 MB)\n",
      "\u001b[K     |████████████████████████████████| 48.4 MB 8.9 MB/s eta 0:00:01    |██                              | 3.0 MB 8.9 MB/s eta 0:00:06     |███████████████████████████▎    | 41.2 MB 8.9 MB/s eta 0:00:01\n",
      "\u001b[?25hInstalling collected packages: SimpleITK\n",
      "Successfully installed SimpleITK-2.1.1\n",
      "\u001b[33mWARNING: You are using pip version 20.2.4; however, version 21.3.1 is available.\n",
      "You should consider upgrading via the '/usr/bin/python3 -m pip install --upgrade pip' command.\u001b[0m\n"
     ]
    }
   ],
   "source": [
    "# ! pip install nibabel\n",
    "# ! pip install SimpleITK"
   ]
  },
  {
   "cell_type": "code",
   "execution_count": 1,
   "metadata": {},
   "outputs": [],
   "source": [
    "import json\n",
    "import numpy as np\n",
    "import cv2\n",
    "import matplotlib.pyplot as plt\n",
    "import os\n",
    "import nibabel as nib\n",
    "from typing import List\n",
    "from collections import OrderedDict\n",
    "import SimpleITK as sitk\n",
    "import random\n",
    "import pandas as pd\n",
    "from tqdm import notebook"
   ]
  },
  {
   "cell_type": "code",
   "execution_count": 2,
   "metadata": {},
   "outputs": [],
   "source": [
    "# Utils ..\n",
    "def maybe_mkdir_p(directory: str) -> None:\n",
    "    os.makedirs(directory, exist_ok=True)\n",
    "    \n",
    "def subdirs(folder: str, join: bool = True, prefix: str = None, suffix: str = None, sort: bool = True) -> List[str]:\n",
    "    if join:\n",
    "        l = os.path.join\n",
    "    else:\n",
    "        l = lambda x, y: y\n",
    "    res = [l(folder, i) for i in os.listdir(folder) if os.path.isdir(os.path.join(folder, i))\n",
    "           and (prefix is None or i.startswith(prefix))\n",
    "           and (suffix is None or i.endswith(suffix))]\n",
    "    if sort:\n",
    "        res.sort()\n",
    "    return res\n",
    "\n",
    "def subfiles(folder: str, join: bool = True, prefix: str = None, suffix: str = None, sort: bool = True) -> List[str]:\n",
    "    if join:\n",
    "        l = os.path.join\n",
    "    else:\n",
    "        l = lambda x, y: y\n",
    "    res = [l(folder, i) for i in os.listdir(folder) if os.path.isfile(os.path.join(folder, i))\n",
    "           and (prefix is None or i.startswith(prefix))\n",
    "           and (suffix is None or i.endswith(suffix))]\n",
    "    if sort:\n",
    "        res.sort()\n",
    "    return res\n",
    "\n",
    "def img_size(file_path: str = '/mnt/dataset/test_set'):\n",
    "\n",
    "\n",
    "    file_dir = file_path\n",
    "\n",
    "    data_imgs = subfiles(file_dir, suffix='png')\n",
    "    shape_list = []\n",
    "\n",
    "    \n",
    "    for i in data_imgs:\n",
    "        pngTemp = plt.imread(i)\n",
    "\n",
    "        shap = pngTemp.shape\n",
    "\n",
    "        shape_list.append(shap)\n",
    "\n",
    "\n",
    "    shape_list.sort()\n",
    "    shape_list_unq = np.unique(shape_list, axis=0)\n",
    "    print(file_path, ', Unique Size : ')\n",
    "    print(shape_list_unq)\n",
    "\n",
    "    return shape_list_unq"
   ]
  },
  {
   "cell_type": "code",
   "execution_count": 3,
   "metadata": {},
   "outputs": [
    {
     "name": "stdout",
     "output_type": "stream",
     "text": [
      "Looking in indexes: http://ftp.daumkakao.com/pypi/simple\n",
      "Obtaining file:///tf/backup/nnUNet\n",
      "Requirement already satisfied: torch>=1.6.0a in /usr/local/lib/python3.8/dist-packages (from nnunet==1.7.0) (1.9.1+cu111)\n",
      "Requirement already satisfied: tqdm in /usr/local/lib/python3.8/dist-packages (from nnunet==1.7.0) (4.62.3)\n",
      "Requirement already satisfied: dicom2nifti in /usr/local/lib/python3.8/dist-packages (from nnunet==1.7.0) (2.3.0)\n",
      "Requirement already satisfied: scikit-image>=0.14 in /usr/local/lib/python3.8/dist-packages (from nnunet==1.7.0) (0.18.3)\n",
      "Requirement already satisfied: medpy in /usr/local/lib/python3.8/dist-packages (from nnunet==1.7.0) (0.4.0)\n",
      "Requirement already satisfied: scipy in /usr/local/lib/python3.8/dist-packages (from nnunet==1.7.0) (1.7.3)\n",
      "Requirement already satisfied: batchgenerators>=0.23 in /usr/local/lib/python3.8/dist-packages (from nnunet==1.7.0) (0.23)\n",
      "Requirement already satisfied: numpy in /usr/local/lib/python3.8/dist-packages (from nnunet==1.7.0) (1.21.3)\n",
      "Requirement already satisfied: sklearn in /usr/local/lib/python3.8/dist-packages (from nnunet==1.7.0) (0.0)\n",
      "Requirement already satisfied: SimpleITK in /usr/local/lib/python3.8/dist-packages (from nnunet==1.7.0) (2.1.1)\n",
      "Requirement already satisfied: pandas in /usr/local/lib/python3.8/dist-packages (from nnunet==1.7.0) (1.3.4)\n",
      "Requirement already satisfied: requests in /usr/lib/python3/dist-packages (from nnunet==1.7.0) (2.22.0)\n",
      "Requirement already satisfied: nibabel in /usr/local/lib/python3.8/dist-packages (from nnunet==1.7.0) (3.2.1)\n",
      "Requirement already satisfied: tifffile in /usr/local/lib/python3.8/dist-packages (from nnunet==1.7.0) (2021.11.2)\n",
      "Requirement already satisfied: typing-extensions in /usr/local/lib/python3.8/dist-packages (from torch>=1.6.0a->nnunet==1.7.0) (3.10.0.2)\n",
      "Requirement already satisfied: pydicom>=1.3.0 in /usr/local/lib/python3.8/dist-packages (from dicom2nifti->nnunet==1.7.0) (2.2.2)\n",
      "Requirement already satisfied: matplotlib!=3.0.0,>=2.0.0 in /usr/local/lib/python3.8/dist-packages (from scikit-image>=0.14->nnunet==1.7.0) (3.4.3)\n",
      "Requirement already satisfied: pillow!=7.1.0,!=7.1.1,>=4.3.0 in /usr/local/lib/python3.8/dist-packages (from scikit-image>=0.14->nnunet==1.7.0) (8.4.0)\n",
      "Requirement already satisfied: imageio>=2.3.0 in /usr/local/lib/python3.8/dist-packages (from scikit-image>=0.14->nnunet==1.7.0) (2.13.0)\n",
      "Requirement already satisfied: PyWavelets>=1.1.1 in /usr/local/lib/python3.8/dist-packages (from scikit-image>=0.14->nnunet==1.7.0) (1.2.0)\n",
      "Requirement already satisfied: networkx>=2.0 in /usr/local/lib/python3.8/dist-packages (from scikit-image>=0.14->nnunet==1.7.0) (2.6.3)\n",
      "Requirement already satisfied: unittest2 in /usr/local/lib/python3.8/dist-packages (from batchgenerators>=0.23->nnunet==1.7.0) (1.1.0)\n",
      "Requirement already satisfied: scikit-learn in /usr/local/lib/python3.8/dist-packages (from batchgenerators>=0.23->nnunet==1.7.0) (1.0.1)\n",
      "Requirement already satisfied: threadpoolctl in /usr/local/lib/python3.8/dist-packages (from batchgenerators>=0.23->nnunet==1.7.0) (3.0.0)\n",
      "Requirement already satisfied: future in /usr/local/lib/python3.8/dist-packages (from batchgenerators>=0.23->nnunet==1.7.0) (0.18.2)\n",
      "Requirement already satisfied: pytz>=2017.3 in /usr/local/lib/python3.8/dist-packages (from pandas->nnunet==1.7.0) (2021.3)\n",
      "Requirement already satisfied: python-dateutil>=2.7.3 in /usr/local/lib/python3.8/dist-packages (from pandas->nnunet==1.7.0) (2.8.2)\n",
      "Requirement already satisfied: packaging>=14.3 in /usr/local/lib/python3.8/dist-packages (from nibabel->nnunet==1.7.0) (21.2)\n",
      "Requirement already satisfied: cycler>=0.10 in /usr/local/lib/python3.8/dist-packages (from matplotlib!=3.0.0,>=2.0.0->scikit-image>=0.14->nnunet==1.7.0) (0.11.0)\n",
      "Requirement already satisfied: pyparsing>=2.2.1 in /usr/local/lib/python3.8/dist-packages (from matplotlib!=3.0.0,>=2.0.0->scikit-image>=0.14->nnunet==1.7.0) (2.4.7)\n",
      "Requirement already satisfied: kiwisolver>=1.0.1 in /usr/local/lib/python3.8/dist-packages (from matplotlib!=3.0.0,>=2.0.0->scikit-image>=0.14->nnunet==1.7.0) (1.3.2)\n",
      "Requirement already satisfied: six>=1.4 in /usr/lib/python3/dist-packages (from unittest2->batchgenerators>=0.23->nnunet==1.7.0) (1.14.0)\n",
      "Requirement already satisfied: argparse in /usr/local/lib/python3.8/dist-packages (from unittest2->batchgenerators>=0.23->nnunet==1.7.0) (1.4.0)\n",
      "Requirement already satisfied: traceback2 in /usr/local/lib/python3.8/dist-packages (from unittest2->batchgenerators>=0.23->nnunet==1.7.0) (1.4.0)\n",
      "Requirement already satisfied: joblib>=0.11 in /usr/local/lib/python3.8/dist-packages (from scikit-learn->batchgenerators>=0.23->nnunet==1.7.0) (1.1.0)\n",
      "Requirement already satisfied: linecache2 in /usr/local/lib/python3.8/dist-packages (from traceback2->unittest2->batchgenerators>=0.23->nnunet==1.7.0) (1.0.0)\n",
      "Installing collected packages: nnunet\n",
      "  Attempting uninstall: nnunet\n",
      "    Found existing installation: nnunet 1.7.0\n",
      "    Can't uninstall 'nnunet'. No files were found to uninstall.\n",
      "  Running setup.py develop for nnunet\n",
      "Successfully installed nnunet\n",
      "\u001b[33mWARNING: You are using pip version 20.2.4; however, version 21.3.1 is available.\n",
      "You should consider upgrading via the '/usr/bin/python3 -m pip install --upgrade pip' command.\u001b[0m\n"
     ]
    }
   ],
   "source": [
    "maic_dir = '/tf/backup/'\n",
    "base_dir = os.path.join(maic_dir, 'working')\n",
    "input_dir = '/mnt/dataset/test_set/'\n",
    "temp_dir = '/tf/temp/'\n",
    "\n",
    "maybe_mkdir_p(base_dir)\n",
    "maybe_mkdir_p(temp_dir)\n",
    "\n",
    "# ! git clone https://github.com/keemsir/nnUNet.git\n",
    "\n",
    "respository_dir = os.path.join(maic_dir, 'nnUNet')\n",
    "os.chdir(respository_dir)\n",
    "\n",
    "! pip install -e .\n",
    "\n",
    "os.chdir(base_dir)"
   ]
  },
  {
   "cell_type": "code",
   "execution_count": 4,
   "metadata": {},
   "outputs": [
    {
     "name": "stdout",
     "output_type": "stream",
     "text": [
      "Setting Completed!\n"
     ]
    }
   ],
   "source": [
    "task_name = 'Task99_Inference'\n",
    "'''\n",
    "Task90_GRSR\n",
    "Task91_NDDR\n",
    "Task92_BFCR\n",
    "Task93_MSCR\n",
    "Task94_SIRL\n",
    "Task95_GRSL\n",
    "Task96_NDHL\n",
    "Task97_CLALM3MT\n",
    "Task98_CLALUCUK\n",
    "\n",
    "Task99_Inference\n",
    "'''\n",
    "main_dir = os.path.join(base_dir, 'nnUNet/nnunet')\n",
    "mainT_dir = os.path.join(temp_dir, 'nnUNet/nnunet')\n",
    "\n",
    "rawbase_dir = os.path.join(mainT_dir, 'nnUNet_raw_data_base/')\n",
    "\n",
    "pp_dir = os.path.join(mainT_dir, 'preprocessed')\n",
    "tasks_dir = os.path.join(mainT_dir, 'Tasks')\n",
    "task_dir = os.path.join(tasks_dir, task_name)\n",
    "\n",
    "model_dir = os.path.join(main_dir, 'nnUNet_trained_models')\n",
    "\n",
    "# 1. Data preprocessing\n",
    "maybe_mkdir_p(tasks_dir)\n",
    "maybe_mkdir_p(temp_dir)\n",
    "\n",
    "# 2. Directory\n",
    "maybe_mkdir_p(main_dir)\n",
    "maybe_mkdir_p(model_dir)\n",
    "maybe_mkdir_p(pp_dir)\n",
    "\n",
    "# 3. Directory\n",
    "# maybe_mkdir_p(result_dir)\n",
    "# maybe_mkdir_p(staple_dir)\n",
    "\n",
    "\n",
    "#Environment Setting\n",
    "os.environ['nnUNet_raw_data_base'] = rawbase_dir #os.path.join(mainT_dir, 'nnUNet_raw_data_base')\n",
    "os.environ['nnUNet_preprocessed'] = pp_dir #os.path.join(mainT_dir, 'preprocessed')\n",
    "os.environ['RESULTS_FOLDER'] = model_dir #os.path.join(main_dir, 'nnUNet_trained_models')\n",
    "\n",
    "\n",
    "print('Setting Completed!')"
   ]
  },
  {
   "cell_type": "markdown",
   "metadata": {},
   "source": [
    "## Testdataset Preprocessing"
   ]
  },
  {
   "cell_type": "code",
   "execution_count": 9,
   "metadata": {},
   "outputs": [],
   "source": [
    "name_shape_DIC_ = {}\n",
    "for i in subfiles('/mnt/dataset/test_set/', join=False, suffix='.png'):\n",
    "    i_path = os.path.join('/mnt/dataset/test_set/', i)\n",
    "    shape_ = plt.imread(i_path).shape\n",
    "    i_, _ = os.path.splitext(i)\n",
    "    name_shape_DIC_.update({i_:shape_})"
   ]
  },
  {
   "cell_type": "code",
   "execution_count": 5,
   "metadata": {},
   "outputs": [],
   "source": [
    "def png2nifti_test(test_folder: str = '/mnt/dataset/test_set/', \n",
    "                   save_folder: str = '/tf/temp/nnUNet/nnunet/Tasks/Task99_Inference'):\n",
    "\n",
    "    # surgery_NUM : surgery_DIC Num (0~8)\n",
    "    # training_folder : training file path '/mnt/dataset/train-valid_set'\n",
    "    # test_folder : test file path '/mnt/dataset/test_set'\n",
    "    # save_folder : '/tf/temp/nnUNet/nnunet/Tasks/' [imagesTr, imagesTs] Save Folder path\n",
    "\n",
    "    test_filelist = subfiles(test_folder, join=False, suffix='.png')\n",
    "\n",
    "    maybe_mkdir_p(os.path.join(save_folder, 'imagesTr'))\n",
    "    maybe_mkdir_p(os.path.join(save_folder, 'imagesTs'))\n",
    "    maybe_mkdir_p(os.path.join(save_folder, 'labelsTr'))\n",
    "    \n",
    "    print('Creating \"{}\" Images for Inference ..'.format(test_folder))\n",
    "    \n",
    "    \n",
    "    list_test_1 = test_filelist[0:100]\n",
    "    list_test_2 = test_filelist[100:200]\n",
    "    list_test_3 = test_filelist[200:300]\n",
    "    list_test_4 = test_filelist[300:400]\n",
    "    list_test_5 = test_filelist[400:500]\n",
    "    list_test_6 = test_filelist[500:600]\n",
    "    list_test_7 = test_filelist[600:700]\n",
    "    list_test_8 = test_filelist[700:800]\n",
    "    list_test_9 = test_filelist[800:900]\n",
    "    list_test_10 = test_filelist[900:1000]\n",
    "    list_test_11 = test_filelist[1000:1100]\n",
    "    list_test_12 = test_filelist[1100:1200]\n",
    "    list_test_13 = test_filelist[1200:1300]\n",
    "    list_test_14 = test_filelist[1300:1400]\n",
    "    \n",
    "    list_list = [list_test_1, list_test_2, list_test_3, list_test_4, list_test_5, list_test_6, list_test_7,\n",
    "                 list_test_8, list_test_9, list_test_10, list_test_11, list_test_12, list_test_13, list_test_14]\n",
    "\n",
    "    \n",
    "    name_shape_DIC = {}\n",
    "    \n",
    "    for list_ in notebook.tqdm(list_list):\n",
    "        \n",
    "        list_NAME = str(list_)\n",
    "        images = np.zeros([512, 512, 0], dtype=np.single)\n",
    "    \n",
    "        for tf in notebook.tqdm(list_):\n",
    "\n",
    "            # Initial Setting\n",
    "\n",
    "            test_path = os.path.join(test_folder, tf)\n",
    "\n",
    "\n",
    "            # print(test_path)\n",
    "\n",
    "            png_data = plt.imread(test_path)\n",
    "            png_data_shape = png_data.shape\n",
    "            tf_, _ = os.path.splitext(tf)\n",
    "            name_shape_DIC.update({tf_:png_data_shape})\n",
    "\n",
    "\n",
    "            png_data = np.mean(png_data, axis=2)\n",
    "            png_data = cv2.resize(png_data, dsize=(512, 512), interpolation=cv2.INTER_CUBIC) # size reduce\n",
    "\n",
    "            image_png = np.expand_dims(png_data, axis=2)\n",
    "\n",
    "            images = np.append(images, image_png, axis=2)\n",
    "        \n",
    "        tf_name, _ = os.path.splitext(tf)\n",
    "        \n",
    "        niim = nib.Nifti1Image(images, affine=np.eye(4))\n",
    "        nib.save(niim, os.path.join(save_folder, 'imagesTs/{}.nii.gz'.format(tf_name)))\n",
    "        print(tf_name, images.shape)\n",
    "        del images\n",
    "    \n",
    "    print('\"{}\" Images for Inference Completed !!'.format(save_folder))\n",
    "    \n",
    "    return name_shape_DIC"
   ]
  },
  {
   "cell_type": "code",
   "execution_count": 7,
   "metadata": {},
   "outputs": [
    {
     "name": "stdout",
     "output_type": "stream",
     "text": [
      "Creating \"/mnt/dataset/test_set/\" Images for Inference ..\n"
     ]
    },
    {
     "data": {
      "application/vnd.jupyter.widget-view+json": {
       "model_id": "20ebfa79990d4871b56c05d8ae886c25",
       "version_major": 2,
       "version_minor": 0
      },
      "text/plain": [
       "  0%|          | 0/14 [00:00<?, ?it/s]"
      ]
     },
     "metadata": {},
     "output_type": "display_data"
    },
    {
     "data": {
      "application/vnd.jupyter.widget-view+json": {
       "model_id": "dec1e0c7fd314a728ea697e2cce87974",
       "version_major": 2,
       "version_minor": 0
      },
      "text/plain": [
       "  0%|          | 0/100 [00:00<?, ?it/s]"
      ]
     },
     "metadata": {},
     "output_type": "display_data"
    },
    {
     "name": "stdout",
     "output_type": "stream",
     "text": [
      "img_00100 (512, 512, 100)\n"
     ]
    },
    {
     "data": {
      "application/vnd.jupyter.widget-view+json": {
       "model_id": "be6f36ae0df641d1863a620563c0856c",
       "version_major": 2,
       "version_minor": 0
      },
      "text/plain": [
       "  0%|          | 0/100 [00:00<?, ?it/s]"
      ]
     },
     "metadata": {},
     "output_type": "display_data"
    },
    {
     "name": "stdout",
     "output_type": "stream",
     "text": [
      "img_00200 (512, 512, 100)\n"
     ]
    },
    {
     "data": {
      "application/vnd.jupyter.widget-view+json": {
       "model_id": "c3fb66041cb44193b3af1e744ee76cf9",
       "version_major": 2,
       "version_minor": 0
      },
      "text/plain": [
       "  0%|          | 0/100 [00:00<?, ?it/s]"
      ]
     },
     "metadata": {},
     "output_type": "display_data"
    },
    {
     "name": "stdout",
     "output_type": "stream",
     "text": [
      "img_00300 (512, 512, 100)\n"
     ]
    },
    {
     "data": {
      "application/vnd.jupyter.widget-view+json": {
       "model_id": "65f3a3f03ee845069385ea8d8ffbc293",
       "version_major": 2,
       "version_minor": 0
      },
      "text/plain": [
       "  0%|          | 0/100 [00:00<?, ?it/s]"
      ]
     },
     "metadata": {},
     "output_type": "display_data"
    },
    {
     "name": "stdout",
     "output_type": "stream",
     "text": [
      "img_00400 (512, 512, 100)\n"
     ]
    },
    {
     "data": {
      "application/vnd.jupyter.widget-view+json": {
       "model_id": "6e041614832446f18e98f297126d23cc",
       "version_major": 2,
       "version_minor": 0
      },
      "text/plain": [
       "  0%|          | 0/100 [00:00<?, ?it/s]"
      ]
     },
     "metadata": {},
     "output_type": "display_data"
    },
    {
     "name": "stdout",
     "output_type": "stream",
     "text": [
      "img_00500 (512, 512, 100)\n"
     ]
    },
    {
     "data": {
      "application/vnd.jupyter.widget-view+json": {
       "model_id": "7e2750986210483198884e04b1c94bf6",
       "version_major": 2,
       "version_minor": 0
      },
      "text/plain": [
       "  0%|          | 0/100 [00:00<?, ?it/s]"
      ]
     },
     "metadata": {},
     "output_type": "display_data"
    },
    {
     "name": "stdout",
     "output_type": "stream",
     "text": [
      "img_00600 (512, 512, 100)\n"
     ]
    },
    {
     "data": {
      "application/vnd.jupyter.widget-view+json": {
       "model_id": "5c9f97e2c0044943ad0a6c81d998bed1",
       "version_major": 2,
       "version_minor": 0
      },
      "text/plain": [
       "  0%|          | 0/100 [00:00<?, ?it/s]"
      ]
     },
     "metadata": {},
     "output_type": "display_data"
    },
    {
     "name": "stdout",
     "output_type": "stream",
     "text": [
      "img_00700 (512, 512, 100)\n"
     ]
    },
    {
     "data": {
      "application/vnd.jupyter.widget-view+json": {
       "model_id": "31dd40ecdd4e479da61a11f62f4ed34f",
       "version_major": 2,
       "version_minor": 0
      },
      "text/plain": [
       "  0%|          | 0/100 [00:00<?, ?it/s]"
      ]
     },
     "metadata": {},
     "output_type": "display_data"
    },
    {
     "name": "stdout",
     "output_type": "stream",
     "text": [
      "img_00800 (512, 512, 100)\n"
     ]
    },
    {
     "data": {
      "application/vnd.jupyter.widget-view+json": {
       "model_id": "f8c04927258e4fa78493bcc03366d789",
       "version_major": 2,
       "version_minor": 0
      },
      "text/plain": [
       "  0%|          | 0/100 [00:00<?, ?it/s]"
      ]
     },
     "metadata": {},
     "output_type": "display_data"
    },
    {
     "name": "stdout",
     "output_type": "stream",
     "text": [
      "img_00900 (512, 512, 100)\n"
     ]
    },
    {
     "data": {
      "application/vnd.jupyter.widget-view+json": {
       "model_id": "fd8a7dd850db4332a74f077b499b43d5",
       "version_major": 2,
       "version_minor": 0
      },
      "text/plain": [
       "  0%|          | 0/100 [00:00<?, ?it/s]"
      ]
     },
     "metadata": {},
     "output_type": "display_data"
    },
    {
     "name": "stdout",
     "output_type": "stream",
     "text": [
      "img_01000 (512, 512, 100)\n"
     ]
    },
    {
     "data": {
      "application/vnd.jupyter.widget-view+json": {
       "model_id": "26f57cc7f953454eadd479f5cc7386fe",
       "version_major": 2,
       "version_minor": 0
      },
      "text/plain": [
       "  0%|          | 0/100 [00:00<?, ?it/s]"
      ]
     },
     "metadata": {},
     "output_type": "display_data"
    },
    {
     "name": "stdout",
     "output_type": "stream",
     "text": [
      "img_01100 (512, 512, 100)\n"
     ]
    },
    {
     "data": {
      "application/vnd.jupyter.widget-view+json": {
       "model_id": "c2142b52bf2048cfba2dd48bd4e3045d",
       "version_major": 2,
       "version_minor": 0
      },
      "text/plain": [
       "  0%|          | 0/100 [00:00<?, ?it/s]"
      ]
     },
     "metadata": {},
     "output_type": "display_data"
    },
    {
     "name": "stdout",
     "output_type": "stream",
     "text": [
      "img_01200 (512, 512, 100)\n"
     ]
    },
    {
     "data": {
      "application/vnd.jupyter.widget-view+json": {
       "model_id": "c68fc8a850c1472185ecdeef5fe0cbab",
       "version_major": 2,
       "version_minor": 0
      },
      "text/plain": [
       "  0%|          | 0/100 [00:00<?, ?it/s]"
      ]
     },
     "metadata": {},
     "output_type": "display_data"
    },
    {
     "name": "stdout",
     "output_type": "stream",
     "text": [
      "img_01300 (512, 512, 100)\n"
     ]
    },
    {
     "data": {
      "application/vnd.jupyter.widget-view+json": {
       "model_id": "770ea3a9ec9d45898f53cf1ba2759da1",
       "version_major": 2,
       "version_minor": 0
      },
      "text/plain": [
       "  0%|          | 0/80 [00:00<?, ?it/s]"
      ]
     },
     "metadata": {},
     "output_type": "display_data"
    },
    {
     "name": "stdout",
     "output_type": "stream",
     "text": [
      "img_01380 (512, 512, 80)\n",
      "\"/tf/temp/nnUNet/nnunet/Tasks/Task99_Inference\" Images for Inference Completed !!\n"
     ]
    }
   ],
   "source": [
    "name_shape = png2nifti_test()"
   ]
  },
  {
   "cell_type": "code",
   "execution_count": 12,
   "metadata": {},
   "outputs": [],
   "source": [
    "def json_mk(save_dir: str):\n",
    "    # Path\n",
    "    imagesTr = os.path.join(save_dir, 'imagesTr')\n",
    "    imagesTs = os.path.join(save_dir, 'imagesTs')\n",
    "    maybe_mkdir_p(imagesTr)\n",
    "    maybe_mkdir_p(imagesTs)\n",
    "    \n",
    "    overwrite_json_file = True\n",
    "    json_file_exist = False\n",
    "    \n",
    "    if os.path.exists(os.path.join(save_dir, 'dataset.json')):\n",
    "        print('dataset.json already exist!')\n",
    "        json_file_exist = True\n",
    "        \n",
    "    if json_file_exist == False or overwrite_json_file:\n",
    "        \n",
    "        json_dict = OrderedDict()\n",
    "        json_dict['name'] = \"SUR\"\n",
    "        json_dict['description'] = \"Robotic Surgery AI Challenge 2021\"\n",
    "        json_dict['tensorImageSize'] = \"3D\"\n",
    "        json_dict['reference'] = \"https://maic.or.kr/\"\n",
    "        json_dict['licence'] = \"SNUH\"\n",
    "        json_dict['release'] = \"24/11/2021\"\n",
    "        \n",
    "        json_dict['modality'] = {\n",
    "            \"0\": \"png\"\n",
    "        }\n",
    "        json_dict['labels'] = {\n",
    "            \"0\": \"background\",\n",
    "            \"1\": \"surgery\"\n",
    "        }\n",
    "\n",
    "        train_ids = subfiles(imagesTr, join=False, suffix='.nii.gz')\n",
    "        test_ids = subfiles(imagesTs, join=False, suffix='.nii.gz')\n",
    "        json_dict['numTraining'] = len(train_ids)\n",
    "        json_dict['numTest'] = len(test_ids)\n",
    "\n",
    "        json_dict['training'] = [{'image': \"./imagesTr/%s\" % i, \"label\": \"./labelsTr/%s\" % i} for i in train_ids]\n",
    "\n",
    "        json_dict['test'] = [\"./imagesTs/%s\" % i for i in test_ids] # (i[:i.find(\"_0000\")])\n",
    "\n",
    "        with open(os.path.join(save_dir, \"dataset.json\"), 'w') as f:\n",
    "            json.dump(json_dict, f, indent=4, sort_keys=False)\n",
    "\n",
    "        if os.path.exists(os.path.join(save_dir, 'dataset.json')):\n",
    "            if json_file_exist == False:\n",
    "                print('{}/dataset.json <-- created!'.format(save_dir))\n",
    "            else:\n",
    "                print('{}/dataset.json <-- overwritten!'.format(save_dir))"
   ]
  },
  {
   "cell_type": "code",
   "execution_count": 13,
   "metadata": {},
   "outputs": [
    {
     "name": "stdout",
     "output_type": "stream",
     "text": [
      "/tf/temp/nnUNet/nnunet/Tasks/Task99_Inference/dataset.json <-- created!\n"
     ]
    }
   ],
   "source": [
    "json_mk('/tf/temp/nnUNet/nnunet/Tasks/Task99_Inference')"
   ]
  },
  {
   "cell_type": "code",
   "execution_count": null,
   "metadata": {},
   "outputs": [],
   "source": []
  },
  {
   "cell_type": "code",
   "execution_count": 9,
   "metadata": {},
   "outputs": [
    {
     "name": "stdout",
     "output_type": "stream",
     "text": [
      "\r\n",
      "\r\n",
      "Please cite the following paper when using nnUNet:\r\n",
      "\r\n",
      "Isensee, F., Jaeger, P.F., Kohl, S.A.A. et al. \"nnU-Net: a self-configuring method for deep learning-based biomedical image segmentation.\" Nat Methods (2020). https://doi.org/10.1038/s41592-020-01008-z\r\n",
      "\r\n",
      "\r\n",
      "If you have questions or suggestions, feel free to open an issue at https://github.com/MIC-DKFZ/nnUNet\r\n",
      "\r\n"
     ]
    }
   ],
   "source": [
    "! nnUNet_convert_decathlon_task -i /tf/temp/nnUNet/nnunet/Tasks/Task99_Inference/ -output_task_id 799 # -i : task_dir"
   ]
  },
  {
   "cell_type": "markdown",
   "metadata": {},
   "source": [
    "## File path"
   ]
  },
  {
   "cell_type": "code",
   "execution_count": 37,
   "metadata": {},
   "outputs": [
    {
     "name": "stdout",
     "output_type": "stream",
     "text": [
      "Model list : ['Task484_SIRL', 'Task480_GRSR', 'Task487_CLALM3MT', 'Task486_NDHL', 'Task488_CLALUCUK', '.ipynb_checkpoints', 'Task483_MSCR', 'Task482_BFCR', 'Task485_GRSL', 'Task481_NDDR']\n",
      "\n",
      "raw_data list ['Task482_BFCR', 'Task799_Inference', 'Task487_CLALM3MT', 'Task488_CLALUCUK', 'Task483_MSCR']\n",
      "\n",
      "Predicted list ['Task484_SIRL', 'Task480_GRSR', 'Task486_NDHL', '.ipynb_checkpoints', 'Task482_BFCR', 'Task485_GRSL', 'Task481_NDDR']\n"
     ]
    }
   ],
   "source": [
    "print('Model list :', os.listdir('/tf/backup/working/nnUNet/nnunet/nnUNet_trained_models/nnUNet/2d/'))\n",
    "print('\\nraw_data list', os.listdir('/tf/temp/nnUNet/nnunet/nnUNet_raw_data_base/nnUNet_raw_data/'))\n",
    "print('\\nPredicted list', os.listdir('/tf/backup/predict/'))"
   ]
  },
  {
   "cell_type": "markdown",
   "metadata": {},
   "source": [
    "## Prediction"
   ]
  },
  {
   "cell_type": "code",
   "execution_count": 45,
   "metadata": {
    "scrolled": true
   },
   "outputs": [
    {
     "name": "stdout",
     "output_type": "stream",
     "text": [
      "\n",
      "\n",
      "Please cite the following paper when using nnUNet:\n",
      "\n",
      "Isensee, F., Jaeger, P.F., Kohl, S.A.A. et al. \"nnU-Net: a self-configuring method for deep learning-based biomedical image segmentation.\" Nat Methods (2020). https://doi.org/10.1038/s41592-020-01008-z\n",
      "\n",
      "\n",
      "If you have questions or suggestions, feel free to open an issue at https://github.com/MIC-DKFZ/nnUNet\n",
      "\n",
      "using model stored in  /tf/backup/working/nnUNet/nnunet/nnUNet_trained_models/nnUNet/2d/Task488_CLALUCUK/nnUNetTrainerV2__nnUNetPlansv2.1\n",
      "This model expects 1 input modalities for each image\n",
      "Found 14 unique case ids, here are some examples: ['img_00800' 'img_00700' 'img_00800' 'img_00700' 'img_00900' 'img_00300'\n",
      " 'img_00600' 'img_01200' 'img_01100' 'img_01200']\n",
      "If they don't look right, make sure to double check your filenames. They must end with _0000.nii.gz etc\n",
      "number of cases: 14\n",
      "number of cases that still need to be predicted: 14\n",
      "emptying cuda cache\n",
      "loading parameters for folds, None\n",
      "folds is None so we will automatically look for output folders (not using 'all'!)\n",
      "found the following folds:  ['/tf/backup/working/nnUNet/nnunet/nnUNet_trained_models/nnUNet/2d/Task488_CLALUCUK/nnUNetTrainerV2__nnUNetPlansv2.1/fold_0', '/tf/backup/working/nnUNet/nnunet/nnUNet_trained_models/nnUNet/2d/Task488_CLALUCUK/nnUNetTrainerV2__nnUNetPlansv2.1/fold_1', '/tf/backup/working/nnUNet/nnunet/nnUNet_trained_models/nnUNet/2d/Task488_CLALUCUK/nnUNetTrainerV2__nnUNetPlansv2.1/fold_2', '/tf/backup/working/nnUNet/nnunet/nnUNet_trained_models/nnUNet/2d/Task488_CLALUCUK/nnUNetTrainerV2__nnUNetPlansv2.1/fold_3', '/tf/backup/working/nnUNet/nnunet/nnUNet_trained_models/nnUNet/2d/Task488_CLALUCUK/nnUNetTrainerV2__nnUNetPlansv2.1/fold_4']\n",
      "using the following model files:  ['/tf/backup/working/nnUNet/nnunet/nnUNet_trained_models/nnUNet/2d/Task488_CLALUCUK/nnUNetTrainerV2__nnUNetPlansv2.1/fold_0/model_final_checkpoint.model', '/tf/backup/working/nnUNet/nnunet/nnUNet_trained_models/nnUNet/2d/Task488_CLALUCUK/nnUNetTrainerV2__nnUNetPlansv2.1/fold_1/model_final_checkpoint.model', '/tf/backup/working/nnUNet/nnunet/nnUNet_trained_models/nnUNet/2d/Task488_CLALUCUK/nnUNetTrainerV2__nnUNetPlansv2.1/fold_2/model_final_checkpoint.model', '/tf/backup/working/nnUNet/nnunet/nnUNet_trained_models/nnUNet/2d/Task488_CLALUCUK/nnUNetTrainerV2__nnUNetPlansv2.1/fold_3/model_final_checkpoint.model', '/tf/backup/working/nnUNet/nnunet/nnUNet_trained_models/nnUNet/2d/Task488_CLALUCUK/nnUNetTrainerV2__nnUNetPlansv2.1/fold_4/model_final_checkpoint.model']\n",
      "starting preprocessing generator\n",
      "starting prediction...\n",
      "preprocessing /tf/backup/predict/Task488_CLALUCUK/img_00100.nii.gz\n",
      "using preprocessor PreprocessorFor2D\n",
      "preprocessing /tf/backup/predict/Task488_CLALUCUK/img_00200.nii.gz\n",
      "using preprocessor PreprocessorFor2D\n",
      "preprocessing /tf/backup/predict/Task488_CLALUCUK/img_00300.nii.gz\n",
      "using preprocessor PreprocessorFor2D\n",
      "preprocessing /tf/backup/predict/Task488_CLALUCUK/img_00400.nii.gz\n",
      "using preprocessor PreprocessorFor2D\n",
      "preprocessing /tf/backup/predict/Task488_CLALUCUK/img_00500.nii.gz\n",
      "using preprocessor PreprocessorFor2D\n",
      "preprocessing /tf/backup/predict/Task488_CLALUCUK/img_00600.nii.gz\n",
      "using preprocessor PreprocessorFor2D\n",
      "before crop: (1, 100, 512, 512) after crop: (1, 100, 512, 512) spacing: [1. 1. 1.] \n",
      "\n",
      "before crop: (1, 100, 512, 512) after crop: (1, 100, 512, 512) spacing: [1. 1. 1.] \n",
      "\n",
      "no resampling necessary\n",
      "no resampling necessary\n",
      "before: {'spacing': array([1., 1., 1.]), 'spacing_transposed': array([1., 1., 1.]), 'data.shape (data is transposed)': (1, 100, 512, 512)} \n",
      "after:  {'spacing': array([1., 1., 1.]), 'data.shape (data is resampled)': (1, 100, 512, 512)} \n",
      "\n",
      "normalization...\n",
      "no resampling necessary\n",
      "no resampling necessary\n",
      "before: {'spacing': array([1., 1., 1.]), 'spacing_transposed': array([1., 1., 1.]), 'data.shape (data is transposed)': (1, 100, 512, 512)} \n",
      "after:  {'spacing': array([1., 1., 1.]), 'data.shape (data is resampled)': (1, 100, 512, 512)} \n",
      "\n",
      "normalization...\n",
      "before crop: (1, 100, 512, 512) after crop: (1, 100, 512, 512) spacing: [1. 1. 1.] \n",
      "\n",
      "before crop: (1, 100, 512, 512) after crop: (1, 100, 512, 512) spacing: [1. 1. 1.] \n",
      "\n",
      "normalization done\n",
      "before crop: (1, 100, 512, 512) after crop: (1, 100, 512, 512) spacing: [1. 1. 1.] \n",
      "\n",
      "(1, 100, 512, 512)\n",
      "preprocessing /tf/backup/predict/Task488_CLALUCUK/img_01100.nii.gz\n",
      "using preprocessor PreprocessorFor2D\n",
      "normalization done\n",
      "(1, 100, 512, 512)\n",
      "before crop: (1, 100, 512, 512) after crop: (1, 100, 512, 512) spacing: [1. 1. 1.] \n",
      "\n",
      "preprocessing /tf/backup/predict/Task488_CLALUCUK/img_00900.nii.gz\n",
      "using preprocessor PreprocessorFor2D\n",
      "predicting /tf/backup/predict/Task488_CLALUCUK/img_00500.nii.gz\n",
      "no resampling necessary\n",
      "no resampling necessary\n",
      "before: {'spacing': array([1., 1., 1.]), 'spacing_transposed': array([1., 1., 1.]), 'data.shape (data is transposed)': (1, 100, 512, 512)} \n",
      "after:  {'spacing': array([1., 1., 1.]), 'data.shape (data is resampled)': (1, 100, 512, 512)} \n",
      "\n",
      "normalization...\n",
      "debug: mirroring True mirror_axes (0, 1)\n",
      "no resampling necessary\n",
      "no resampling necessary\n",
      "before: {'spacing': array([1., 1., 1.]), 'spacing_transposed': array([1., 1., 1.]), 'data.shape (data is transposed)': (1, 100, 512, 512)} \n",
      "after:  {'spacing': array([1., 1., 1.]), 'data.shape (data is resampled)': (1, 100, 512, 512)} \n",
      "\n",
      "normalization...\n",
      "no resampling necessary\n",
      "no resampling necessary\n",
      "before: {'spacing': array([1., 1., 1.]), 'spacing_transposed': array([1., 1., 1.]), 'data.shape (data is transposed)': (1, 100, 512, 512)} \n",
      "after:  {'spacing': array([1., 1., 1.]), 'data.shape (data is resampled)': (1, 100, 512, 512)} \n",
      "\n",
      "normalization...\n",
      "normalization done\n",
      "normalization done\n",
      "(1, 100, 512, 512)\n",
      "(1, 100, 512, 512)\n",
      "no resampling necessary\n",
      "no resampling necessary\n",
      "before: {'spacing': array([1., 1., 1.]), 'spacing_transposed': array([1., 1., 1.]), 'data.shape (data is transposed)': (1, 100, 512, 512)} \n",
      "after:  {'spacing': array([1., 1., 1.]), 'data.shape (data is resampled)': (1, 100, 512, 512)} \n",
      "\n",
      "normalization done\n",
      "normalization...\n",
      "(1, 100, 512, 512)\n",
      "normalization done\n",
      "(1, 100, 512, 512)\n",
      "before crop: (1, 100, 512, 512) after crop: (1, 100, 512, 512) spacing: [1. 1. 1.] \n",
      "\n",
      "before crop: (1, 100, 512, 512) after crop: (1, 100, 512, 512) spacing: [1. 1. 1.] \n",
      "\n",
      "no resampling necessary\n",
      "no resampling necessary\n",
      "before: {'spacing': array([1., 1., 1.]), 'spacing_transposed': array([1., 1., 1.]), 'data.shape (data is transposed)': (1, 100, 512, 512)} \n",
      "after:  {'spacing': array([1., 1., 1.]), 'data.shape (data is resampled)': (1, 100, 512, 512)} \n",
      "\n",
      "normalization...\n",
      "no resampling necessary\n",
      "no resampling necessary\n",
      "before: {'spacing': array([1., 1., 1.]), 'spacing_transposed': array([1., 1., 1.]), 'data.shape (data is transposed)': (1, 100, 512, 512)} \n",
      "after:  {'spacing': array([1., 1., 1.]), 'data.shape (data is resampled)': (1, 100, 512, 512)} \n",
      "\n",
      "normalization...\n",
      "normalization done\n",
      "(1, 100, 512, 512)\n",
      "normalization done\n",
      "(1, 100, 512, 512)\n",
      "debug: mirroring True mirror_axes (0, 1)\n",
      "debug: mirroring True mirror_axes (0, 1)\n",
      "debug: mirroring True mirror_axes (0, 1)\n",
      "debug: mirroring True mirror_axes (0, 1)\n",
      "preprocessing /tf/backup/predict/Task488_CLALUCUK/img_00800.nii.gz\n",
      "using preprocessor PreprocessorFor2D\n",
      "predicting /tf/backup/predict/Task488_CLALUCUK/img_00300.nii.gz\n",
      "debug: mirroring True mirror_axes (0, 1)\n",
      "force_separate_z: None interpolation order: 1\n",
      "no resampling necessary\n",
      "before crop: (1, 100, 512, 512) after crop: (1, 100, 512, 512) spacing: [1. 1. 1.] \n",
      "\n",
      "no resampling necessary\n",
      "no resampling necessary\n",
      "before: {'spacing': array([1., 1., 1.]), 'spacing_transposed': array([1., 1., 1.]), 'data.shape (data is transposed)': (1, 100, 512, 512)} \n",
      "after:  {'spacing': array([1., 1., 1.]), 'data.shape (data is resampled)': (1, 100, 512, 512)} \n",
      "\n",
      "normalization...\n",
      "normalization done\n",
      "(1, 100, 512, 512)\n",
      "debug: mirroring True mirror_axes (0, 1)\n",
      "debug: mirroring True mirror_axes (0, 1)\n",
      "debug: mirroring True mirror_axes (0, 1)\n",
      "debug: mirroring True mirror_axes (0, 1)\n",
      "preprocessing /tf/backup/predict/Task488_CLALUCUK/img_01000.nii.gz\n",
      "predicting /tf/backup/predict/Task488_CLALUCUK/img_00200.nii.gz\n",
      "using preprocessor PreprocessorFor2D\n",
      "debug: mirroring True mirror_axes (0, 1)\n",
      "force_separate_z: None interpolation order: 1\n",
      "no resampling necessary\n",
      "before crop: (1, 100, 512, 512) after crop: (1, 100, 512, 512) spacing: [1. 1. 1.] \n",
      "\n",
      "no resampling necessary\n",
      "no resampling necessary\n",
      "before: {'spacing': array([1., 1., 1.]), 'spacing_transposed': array([1., 1., 1.]), 'data.shape (data is transposed)': (1, 100, 512, 512)} \n",
      "after:  {'spacing': array([1., 1., 1.]), 'data.shape (data is resampled)': (1, 100, 512, 512)} \n",
      "\n",
      "normalization...\n",
      "normalization done\n",
      "(1, 100, 512, 512)\n",
      "debug: mirroring True mirror_axes (0, 1)\n",
      "debug: mirroring True mirror_axes (0, 1)\n",
      "debug: mirroring True mirror_axes (0, 1)\n",
      "debug: mirroring True mirror_axes (0, 1)\n",
      "preprocessing /tf/backup/predict/Task488_CLALUCUK/img_00700.nii.gz\n",
      "predicting /tf/backup/predict/Task488_CLALUCUK/img_00400.nii.gz\n",
      "debug: mirroring True mirror_axes (0, 1)\n",
      "using preprocessor PreprocessorFor2D\n",
      "force_separate_z: None interpolation order: 1\n",
      "no resampling necessary\n",
      "before crop: (1, 100, 512, 512) after crop: (1, 100, 512, 512) spacing: [1. 1. 1.] \n",
      "\n",
      "no resampling necessary\n",
      "no resampling necessary\n",
      "before: {'spacing': array([1., 1., 1.]), 'spacing_transposed': array([1., 1., 1.]), 'data.shape (data is transposed)': (1, 100, 512, 512)} \n",
      "after:  {'spacing': array([1., 1., 1.]), 'data.shape (data is resampled)': (1, 100, 512, 512)} \n",
      "\n",
      "normalization...\n",
      "normalization done\n",
      "(1, 100, 512, 512)\n",
      "debug: mirroring True mirror_axes (0, 1)\n",
      "debug: mirroring True mirror_axes (0, 1)\n",
      "debug: mirroring True mirror_axes (0, 1)\n",
      "debug: mirroring True mirror_axes (0, 1)\n",
      "preprocessing /tf/backup/predict/Task488_CLALUCUK/img_01200.nii.gz\n",
      "predicting /tf/backup/predict/Task488_CLALUCUK/img_00100.nii.gz\n",
      "using preprocessor PreprocessorFor2D\n",
      "debug: mirroring True mirror_axes (0, 1)\n",
      "force_separate_z: None interpolation order: 1\n",
      "no resampling necessary\n",
      "before crop: (1, 100, 512, 512) after crop: (1, 100, 512, 512) spacing: [1. 1. 1.] \n",
      "\n",
      "no resampling necessary\n",
      "no resampling necessary\n",
      "before: {'spacing': array([1., 1., 1.]), 'spacing_transposed': array([1., 1., 1.]), 'data.shape (data is transposed)': (1, 100, 512, 512)} \n",
      "after:  {'spacing': array([1., 1., 1.]), 'data.shape (data is resampled)': (1, 100, 512, 512)} \n",
      "\n",
      "normalization...\n",
      "normalization done\n",
      "(1, 100, 512, 512)\n",
      "debug: mirroring True mirror_axes (0, 1)\n",
      "debug: mirroring True mirror_axes (0, 1)\n",
      "debug: mirroring True mirror_axes (0, 1)\n",
      "debug: mirroring True mirror_axes (0, 1)\n",
      "predicting /tf/backup/predict/Task488_CLALUCUK/img_00600.nii.gz\n",
      "debug: mirroring True mirror_axes (0, 1)\n",
      "force_separate_z: None interpolation order: 1\n",
      "no resampling necessary\n",
      "debug: mirroring True mirror_axes (0, 1)\n",
      "debug: mirroring True mirror_axes (0, 1)\n",
      "debug: mirroring True mirror_axes (0, 1)\n",
      "debug: mirroring True mirror_axes (0, 1)\n",
      "predicting /tf/backup/predict/Task488_CLALUCUK/img_01100.nii.gz\n",
      "debug: mirroring True mirror_axes (0, 1)\n",
      "force_separate_z: None interpolation order: 1\n",
      "no resampling necessary\n",
      "debug: mirroring True mirror_axes (0, 1)\n",
      "debug: mirroring True mirror_axes (0, 1)\n",
      "debug: mirroring True mirror_axes (0, 1)\n",
      "debug: mirroring True mirror_axes (0, 1)\n",
      "preprocessing /tf/backup/predict/Task488_CLALUCUK/img_01380.nii.gz\n",
      "predicting /tf/backup/predict/Task488_CLALUCUK/img_00900.nii.gz\n",
      "using preprocessor PreprocessorFor2D\n",
      "debug: mirroring True mirror_axes (0, 1)\n",
      "force_separate_z: None interpolation order: 1\n",
      "no resampling necessary\n",
      "before crop: (1, 80, 512, 512) after crop: (1, 80, 512, 512) spacing: [1. 1. 1.] \n",
      "\n",
      "no resampling necessary\n",
      "no resampling necessary\n",
      "before: {'spacing': array([1., 1., 1.]), 'spacing_transposed': array([1., 1., 1.]), 'data.shape (data is transposed)': (1, 80, 512, 512)} \n",
      "after:  {'spacing': array([1., 1., 1.]), 'data.shape (data is resampled)': (1, 80, 512, 512)} \n",
      "\n",
      "normalization...\n",
      "normalization done\n",
      "(1, 80, 512, 512)\n",
      "debug: mirroring True mirror_axes (0, 1)\n",
      "debug: mirroring True mirror_axes (0, 1)\n",
      "debug: mirroring True mirror_axes (0, 1)\n",
      "debug: mirroring True mirror_axes (0, 1)\n",
      "predicting /tf/backup/predict/Task488_CLALUCUK/img_00800.nii.gz\n",
      "debug: mirroring True mirror_axes (0, 1)\n",
      "force_separate_z: None interpolation order: 1\n",
      "no resampling necessary\n",
      "debug: mirroring True mirror_axes (0, 1)\n",
      "debug: mirroring True mirror_axes (0, 1)\n",
      "debug: mirroring True mirror_axes (0, 1)\n",
      "debug: mirroring True mirror_axes (0, 1)\n",
      "preprocessing /tf/backup/predict/Task488_CLALUCUK/img_01300.nii.gz\n",
      "using preprocessor PreprocessorFor2D\n",
      "predicting /tf/backup/predict/Task488_CLALUCUK/img_01000.nii.gz\n",
      "debug: mirroring True mirror_axes (0, 1)\n",
      "force_separate_z: None interpolation order: 1\n",
      "no resampling necessary\n",
      "before crop: (1, 100, 512, 512) after crop: (1, 100, 512, 512) spacing: [1. 1. 1.] \n",
      "\n",
      "no resampling necessary\n",
      "no resampling necessary\n",
      "before: {'spacing': array([1., 1., 1.]), 'spacing_transposed': array([1., 1., 1.]), 'data.shape (data is transposed)': (1, 100, 512, 512)} \n",
      "after:  {'spacing': array([1., 1., 1.]), 'data.shape (data is resampled)': (1, 100, 512, 512)} \n",
      "\n",
      "normalization...\n",
      "normalization done\n",
      "(1, 100, 512, 512)\n",
      "debug: mirroring True mirror_axes (0, 1)\n",
      "debug: mirroring True mirror_axes (0, 1)\n",
      "debug: mirroring True mirror_axes (0, 1)\n",
      "debug: mirroring True mirror_axes (0, 1)\n",
      "predicting /tf/backup/predict/Task488_CLALUCUK/img_00700.nii.gz\n",
      "debug: mirroring True mirror_axes (0, 1)\n",
      "force_separate_z: None interpolation order: 1\n",
      "no resampling necessary\n",
      "debug: mirroring True mirror_axes (0, 1)\n",
      "debug: mirroring True mirror_axes (0, 1)\n",
      "debug: mirroring True mirror_axes (0, 1)\n",
      "debug: mirroring True mirror_axes (0, 1)\n",
      "This worker has ended successfully, no errors to report\n",
      "predicting /tf/backup/predict/Task488_CLALUCUK/img_01200.nii.gz\n",
      "debug: mirroring True mirror_axes (0, 1)\n",
      "force_separate_z: None interpolation order: 1\n",
      "no resampling necessary\n",
      "debug: mirroring True mirror_axes (0, 1)\n",
      "debug: mirroring True mirror_axes (0, 1)\n",
      "debug: mirroring True mirror_axes (0, 1)\n",
      "debug: mirroring True mirror_axes (0, 1)\n",
      "This worker has ended successfully, no errors to report\n",
      "This worker has ended successfully, no errors to report\n",
      "predicting /tf/backup/predict/Task488_CLALUCUK/img_01380.nii.gz\n",
      "debug: mirroring True mirror_axes (0, 1)\n",
      "force_separate_z: None interpolation order: 1\n",
      "no resampling necessary\n",
      "debug: mirroring True mirror_axes (0, 1)\n",
      "debug: mirroring True mirror_axes (0, 1)\n",
      "debug: mirroring True mirror_axes (0, 1)\n",
      "debug: mirroring True mirror_axes (0, 1)\n",
      "This worker has ended successfully, no errors to report\n",
      "predicting /tf/backup/predict/Task488_CLALUCUK/img_01300.nii.gz\n",
      "debug: mirroring True mirror_axes (0, 1)\n",
      "force_separate_z: None interpolation order: 1\n",
      "no resampling necessary\n",
      "debug: mirroring True mirror_axes (0, 1)\n",
      "debug: mirroring True mirror_axes (0, 1)\n",
      "debug: mirroring True mirror_axes (0, 1)\n",
      "debug: mirroring True mirror_axes (0, 1)\n",
      "This worker has ended successfully, no errors to report\n",
      "This worker has ended successfully, no errors to report\n",
      "inference done. Now waiting for the segmentation export to finish...\n",
      "force_separate_z: None interpolation order: 1\n",
      "no resampling necessary\n",
      "WARNING! Cannot run postprocessing because the postprocessing file is missing. Make sure to run consolidate_folds in the output folder of the model first!\n",
      "The folder you need to run this in is /tf/backup/working/nnUNet/nnunet/nnUNet_trained_models/nnUNet/2d/Task488_CLALUCUK/nnUNetTrainerV2__nnUNetPlansv2.1\n"
     ]
    }
   ],
   "source": [
    "!nnUNet_predict -i /tf/temp/nnUNet/nnunet/nnUNet_raw_data_base/nnUNet_raw_data/Task799_Inference/imagesTs -o /tf/backup/predict/Task488_CLALUCUK -t 488 -tr nnUNetTrainerV2 -m 2d"
   ]
  },
  {
   "cell_type": "code",
   "execution_count": null,
   "metadata": {},
   "outputs": [],
   "source": []
  },
  {
   "cell_type": "code",
   "execution_count": null,
   "metadata": {},
   "outputs": [],
   "source": []
  },
  {
   "cell_type": "code",
   "execution_count": null,
   "metadata": {},
   "outputs": [],
   "source": []
  },
  {
   "cell_type": "code",
   "execution_count": null,
   "metadata": {},
   "outputs": [],
   "source": []
  },
  {
   "cell_type": "code",
   "execution_count": null,
   "metadata": {},
   "outputs": [],
   "source": []
  },
  {
   "cell_type": "code",
   "execution_count": null,
   "metadata": {},
   "outputs": [],
   "source": []
  },
  {
   "cell_type": "code",
   "execution_count": 128,
   "metadata": {},
   "outputs": [
    {
     "name": "stdout",
     "output_type": "stream",
     "text": [
      "img_00001\n",
      "img_00002\n",
      "img_00003\n",
      "img_00004\n",
      "img_00005\n",
      "img_00006\n",
      "img_00007\n",
      "img_00008\n",
      "img_00009\n",
      "img_00010\n",
      "img_00011\n",
      "img_00012\n",
      "img_00013\n",
      "img_00014\n",
      "img_00015\n",
      "img_00016\n",
      "img_00017\n",
      "img_00018\n",
      "img_00019\n",
      "img_00020\n",
      "img_00021\n",
      "img_00022\n",
      "img_00023\n",
      "img_00024\n",
      "img_00025\n",
      "img_00026\n",
      "img_00027\n",
      "img_00028\n",
      "img_00029\n",
      "img_00030\n",
      "img_00031\n",
      "img_00032\n",
      "img_00033\n",
      "img_00034\n",
      "img_00035\n",
      "img_00036\n",
      "img_00037\n",
      "img_00038\n",
      "img_00039\n",
      "img_00040\n",
      "img_00041\n",
      "img_00042\n",
      "img_00043\n",
      "img_00044\n",
      "img_00045\n",
      "img_00046\n",
      "img_00047\n",
      "img_00048\n",
      "img_00049\n",
      "img_00050\n",
      "img_00051\n",
      "img_00052\n",
      "img_00053\n",
      "img_00054\n",
      "img_00055\n",
      "img_00056\n",
      "img_00057\n",
      "img_00058\n",
      "img_00059\n",
      "img_00060\n",
      "img_00061\n",
      "img_00062\n",
      "img_00063\n",
      "img_00064\n",
      "img_00065\n",
      "img_00066\n",
      "img_00067\n",
      "img_00068\n",
      "img_00069\n",
      "img_00070\n",
      "img_00071\n",
      "img_00072\n",
      "img_00073\n",
      "img_00074\n",
      "img_00075\n",
      "img_00076\n",
      "img_00077\n",
      "img_00078\n",
      "img_00079\n",
      "img_00080\n",
      "img_00081\n",
      "img_00082\n",
      "img_00083\n",
      "img_00084\n",
      "img_00085\n",
      "img_00086\n",
      "img_00087\n",
      "img_00088\n",
      "img_00089\n",
      "img_00090\n",
      "img_00091\n",
      "img_00092\n",
      "img_00093\n",
      "img_00094\n",
      "img_00095\n",
      "img_00096\n",
      "img_00097\n",
      "img_00098\n",
      "img_00099\n",
      "img_00100\n",
      "img_00101\n",
      "img_00102\n",
      "img_00103\n",
      "img_00104\n",
      "img_00105\n",
      "img_00106\n",
      "img_00107\n",
      "img_00108\n",
      "img_00109\n",
      "img_00110\n",
      "img_00111\n",
      "img_00112\n",
      "img_00113\n",
      "img_00114\n",
      "img_00115\n",
      "img_00116\n",
      "img_00117\n",
      "img_00118\n",
      "img_00119\n",
      "img_00120\n",
      "img_00121\n",
      "img_00122\n",
      "img_00123\n",
      "img_00124\n",
      "img_00125\n",
      "img_00126\n",
      "img_00127\n",
      "img_00128\n",
      "img_00129\n",
      "img_00130\n",
      "img_00131\n",
      "img_00132\n",
      "img_00133\n",
      "img_00134\n",
      "img_00135\n",
      "img_00136\n",
      "img_00137\n",
      "img_00138\n",
      "img_00139\n",
      "img_00140\n",
      "img_00141\n",
      "img_00142\n",
      "img_00143\n",
      "img_00144\n",
      "img_00145\n",
      "img_00146\n",
      "img_00147\n",
      "img_00148\n",
      "img_00149\n",
      "img_00150\n",
      "img_00151\n",
      "img_00152\n",
      "img_00153\n",
      "img_00154\n",
      "img_00155\n",
      "img_00156\n",
      "img_00157\n",
      "img_00158\n",
      "img_00159\n",
      "img_00160\n",
      "img_00161\n",
      "img_00162\n",
      "img_00163\n",
      "img_00164\n",
      "img_00165\n",
      "img_00166\n",
      "img_00167\n",
      "img_00168\n",
      "img_00169\n",
      "img_00170\n",
      "img_00171\n",
      "img_00172\n",
      "img_00173\n",
      "img_00174\n",
      "img_00175\n",
      "img_00176\n",
      "img_00177\n",
      "img_00178\n",
      "img_00179\n",
      "img_00180\n",
      "img_00181\n",
      "img_00182\n",
      "img_00183\n",
      "img_00184\n",
      "img_00185\n",
      "img_00186\n",
      "img_00187\n",
      "img_00188\n",
      "img_00189\n",
      "img_00190\n",
      "img_00191\n",
      "img_00192\n",
      "img_00193\n",
      "img_00194\n",
      "img_00195\n",
      "img_00196\n",
      "img_00197\n",
      "img_00198\n",
      "img_00199\n",
      "img_00200\n",
      "img_00201\n",
      "img_00202\n",
      "img_00203\n",
      "img_00204\n",
      "img_00205\n",
      "img_00206\n",
      "img_00207\n",
      "img_00208\n",
      "img_00209\n",
      "img_00210\n",
      "img_00211\n",
      "img_00212\n",
      "img_00213\n",
      "img_00214\n",
      "img_00215\n",
      "img_00216\n",
      "img_00217\n",
      "img_00218\n",
      "img_00219\n",
      "img_00220\n",
      "img_00221\n",
      "img_00222\n",
      "img_00223\n",
      "img_00224\n",
      "img_00225\n",
      "img_00226\n",
      "img_00227\n",
      "img_00228\n",
      "img_00229\n",
      "img_00230\n",
      "img_00231\n",
      "img_00232\n",
      "img_00233\n",
      "img_00234\n",
      "img_00235\n",
      "img_00236\n",
      "img_00237\n",
      "img_00238\n",
      "img_00239\n",
      "img_00240\n",
      "img_00241\n",
      "img_00242\n",
      "img_00243\n",
      "img_00244\n",
      "img_00245\n",
      "img_00246\n",
      "img_00247\n",
      "img_00248\n",
      "img_00249\n",
      "img_00250\n",
      "img_00251\n",
      "img_00252\n",
      "img_00253\n",
      "img_00254\n",
      "img_00255\n",
      "img_00256\n",
      "img_00257\n",
      "img_00258\n",
      "img_00259\n",
      "img_00260\n",
      "img_00261\n",
      "img_00262\n",
      "img_00263\n",
      "img_00264\n",
      "img_00265\n",
      "img_00266\n",
      "img_00267\n",
      "img_00268\n",
      "img_00269\n",
      "img_00270\n",
      "img_00271\n",
      "img_00272\n",
      "img_00273\n",
      "img_00274\n",
      "img_00275\n",
      "img_00276\n",
      "img_00277\n",
      "img_00278\n",
      "img_00279\n",
      "img_00280\n",
      "img_00281\n",
      "img_00282\n",
      "img_00283\n",
      "img_00284\n",
      "img_00285\n",
      "img_00286\n",
      "img_00287\n",
      "img_00288\n",
      "img_00289\n",
      "img_00290\n",
      "img_00291\n",
      "img_00292\n",
      "img_00293\n",
      "img_00294\n",
      "img_00295\n",
      "img_00296\n",
      "img_00297\n",
      "img_00298\n",
      "img_00299\n",
      "img_00300\n",
      "img_00301\n",
      "img_00302\n",
      "img_00303\n",
      "img_00304\n",
      "img_00305\n",
      "img_00306\n",
      "img_00307\n",
      "img_00308\n",
      "img_00309\n",
      "img_00310\n",
      "img_00311\n",
      "img_00312\n",
      "img_00313\n",
      "img_00314\n",
      "img_00315\n",
      "img_00316\n",
      "img_00317\n",
      "img_00318\n",
      "img_00319\n",
      "img_00320\n",
      "img_00321\n",
      "img_00322\n",
      "img_00323\n",
      "img_00324\n",
      "img_00325\n",
      "img_00326\n",
      "img_00327\n",
      "img_00328\n",
      "img_00329\n",
      "img_00330\n",
      "img_00331\n",
      "img_00332\n",
      "img_00333\n",
      "img_00334\n",
      "img_00335\n",
      "img_00336\n",
      "img_00337\n",
      "img_00338\n",
      "img_00339\n",
      "img_00340\n",
      "img_00341\n",
      "img_00342\n",
      "img_00343\n",
      "img_00344\n",
      "img_00345\n",
      "img_00346\n",
      "img_00347\n",
      "img_00348\n",
      "img_00349\n",
      "img_00350\n",
      "img_00351\n",
      "img_00352\n",
      "img_00353\n",
      "img_00354\n",
      "img_00355\n",
      "img_00356\n",
      "img_00357\n",
      "img_00358\n",
      "img_00359\n",
      "img_00360\n",
      "img_00361\n",
      "img_00362\n",
      "img_00363\n",
      "img_00364\n",
      "img_00365\n",
      "img_00366\n",
      "img_00367\n",
      "img_00368\n",
      "img_00369\n",
      "img_00370\n",
      "img_00371\n",
      "img_00372\n",
      "img_00373\n",
      "img_00374\n",
      "img_00375\n",
      "img_00376\n",
      "img_00377\n",
      "img_00378\n",
      "img_00379\n",
      "img_00380\n",
      "img_00381\n",
      "img_00382\n",
      "img_00383\n",
      "img_00384\n",
      "img_00385\n",
      "img_00386\n",
      "img_00387\n",
      "img_00388\n",
      "img_00389\n",
      "img_00390\n",
      "img_00391\n",
      "img_00392\n",
      "img_00393\n",
      "img_00394\n",
      "img_00395\n",
      "img_00396\n",
      "img_00397\n",
      "img_00398\n",
      "img_00399\n",
      "img_00400\n",
      "img_00401\n",
      "img_00402\n",
      "img_00403\n",
      "img_00404\n",
      "img_00405\n",
      "img_00406\n",
      "img_00407\n",
      "img_00408\n",
      "img_00409\n",
      "img_00410\n",
      "img_00411\n",
      "img_00412\n",
      "img_00413\n",
      "img_00414\n",
      "img_00415\n",
      "img_00416\n",
      "img_00417\n",
      "img_00418\n",
      "img_00419\n",
      "img_00420\n",
      "img_00421\n",
      "img_00422\n",
      "img_00423\n",
      "img_00424\n",
      "img_00425\n",
      "img_00426\n",
      "img_00427\n",
      "img_00428\n",
      "img_00429\n",
      "img_00430\n",
      "img_00431\n",
      "img_00432\n",
      "img_00433\n",
      "img_00434\n",
      "img_00435\n",
      "img_00436\n",
      "img_00437\n",
      "img_00438\n",
      "img_00439\n",
      "img_00440\n",
      "img_00441\n",
      "img_00442\n",
      "img_00443\n",
      "img_00444\n",
      "img_00445\n",
      "img_00446\n",
      "img_00447\n",
      "img_00448\n",
      "img_00449\n",
      "img_00450\n",
      "img_00451\n",
      "img_00452\n",
      "img_00453\n",
      "img_00454\n",
      "img_00455\n",
      "img_00456\n",
      "img_00457\n",
      "img_00458\n",
      "img_00459\n",
      "img_00460\n",
      "img_00461\n",
      "img_00462\n",
      "img_00463\n",
      "img_00464\n",
      "img_00465\n",
      "img_00466\n",
      "img_00467\n",
      "img_00468\n",
      "img_00469\n",
      "img_00470\n",
      "img_00471\n",
      "img_00472\n",
      "img_00473\n",
      "img_00474\n",
      "img_00475\n",
      "img_00476\n",
      "img_00477\n",
      "img_00478\n",
      "img_00479\n",
      "img_00480\n",
      "img_00481\n",
      "img_00482\n",
      "img_00483\n",
      "img_00484\n",
      "img_00485\n",
      "img_00486\n",
      "img_00487\n",
      "img_00488\n",
      "img_00489\n",
      "img_00490\n",
      "img_00491\n",
      "img_00492\n",
      "img_00493\n",
      "img_00494\n",
      "img_00495\n",
      "img_00496\n",
      "img_00497\n",
      "img_00498\n",
      "img_00499\n",
      "img_00500\n",
      "img_00501\n",
      "img_00502\n",
      "img_00503\n",
      "img_00504\n",
      "img_00505\n",
      "img_00506\n",
      "img_00507\n",
      "img_00508\n",
      "img_00509\n",
      "img_00510\n",
      "img_00511\n",
      "img_00512\n",
      "img_00513\n",
      "img_00514\n",
      "img_00515\n",
      "img_00516\n",
      "img_00517\n",
      "img_00518\n",
      "img_00519\n",
      "img_00520\n",
      "img_00521\n",
      "img_00522\n",
      "img_00523\n",
      "img_00524\n",
      "img_00525\n",
      "img_00526\n",
      "img_00527\n",
      "img_00528\n",
      "img_00529\n",
      "img_00530\n",
      "img_00531\n",
      "img_00532\n",
      "img_00533\n",
      "img_00534\n",
      "img_00535\n",
      "img_00536\n",
      "img_00537\n",
      "img_00538\n",
      "img_00539\n",
      "img_00540\n",
      "img_00541\n",
      "img_00542\n",
      "img_00543\n",
      "img_00544\n",
      "img_00545\n",
      "img_00546\n",
      "img_00547\n",
      "img_00548\n",
      "img_00549\n",
      "img_00550\n",
      "img_00551\n",
      "img_00552\n",
      "img_00553\n",
      "img_00554\n",
      "img_00555\n",
      "img_00556\n",
      "img_00557\n",
      "img_00558\n",
      "img_00559\n",
      "img_00560\n",
      "img_00561\n",
      "img_00562\n",
      "img_00563\n",
      "img_00564\n",
      "img_00565\n",
      "img_00566\n",
      "img_00567\n",
      "img_00568\n",
      "img_00569\n",
      "img_00570\n",
      "img_00571\n",
      "img_00572\n",
      "img_00573\n",
      "img_00574\n",
      "img_00575\n",
      "img_00576\n",
      "img_00577\n",
      "img_00578\n",
      "img_00579\n",
      "img_00580\n",
      "img_00581\n",
      "img_00582\n",
      "img_00583\n",
      "img_00584\n",
      "img_00585\n",
      "img_00586\n",
      "img_00587\n",
      "img_00588\n",
      "img_00589\n",
      "img_00590\n",
      "img_00591\n",
      "img_00592\n",
      "img_00593\n",
      "img_00594\n",
      "img_00595\n",
      "img_00596\n",
      "img_00597\n",
      "img_00598\n",
      "img_00599\n",
      "img_00600\n",
      "img_00601\n",
      "img_00602\n",
      "img_00603\n",
      "img_00604\n",
      "img_00605\n",
      "img_00606\n",
      "img_00607\n",
      "img_00608\n",
      "img_00609\n",
      "img_00610\n",
      "img_00611\n",
      "img_00612\n",
      "img_00613\n",
      "img_00614\n",
      "img_00615\n",
      "img_00616\n",
      "img_00617\n",
      "img_00618\n",
      "img_00619\n",
      "img_00620\n",
      "img_00621\n",
      "img_00622\n",
      "img_00623\n",
      "img_00624\n",
      "img_00625\n",
      "img_00626\n",
      "img_00627\n",
      "img_00628\n",
      "img_00629\n",
      "img_00630\n",
      "img_00631\n",
      "img_00632\n",
      "img_00633\n",
      "img_00634\n",
      "img_00635\n",
      "img_00636\n",
      "img_00637\n",
      "img_00638\n",
      "img_00639\n",
      "img_00640\n",
      "img_00641\n",
      "img_00642\n",
      "img_00643\n",
      "img_00644\n",
      "img_00645\n",
      "img_00646\n",
      "img_00647\n",
      "img_00648\n",
      "img_00649\n",
      "img_00650\n",
      "img_00651\n",
      "img_00652\n",
      "img_00653\n",
      "img_00654\n",
      "img_00655\n",
      "img_00656\n",
      "img_00657\n",
      "img_00658\n",
      "img_00659\n",
      "img_00660\n",
      "img_00661\n",
      "img_00662\n",
      "img_00663\n",
      "img_00664\n",
      "img_00665\n",
      "img_00666\n",
      "img_00667\n",
      "img_00668\n",
      "img_00669\n",
      "img_00670\n",
      "img_00671\n",
      "img_00672\n",
      "img_00673\n",
      "img_00674\n",
      "img_00675\n",
      "img_00676\n",
      "img_00677\n",
      "img_00678\n",
      "img_00679\n",
      "img_00680\n",
      "img_00681\n",
      "img_00682\n",
      "img_00683\n",
      "img_00684\n",
      "img_00685\n",
      "img_00686\n",
      "img_00687\n",
      "img_00688\n",
      "img_00689\n",
      "img_00690\n",
      "img_00691\n",
      "img_00692\n",
      "img_00693\n",
      "img_00694\n",
      "img_00695\n",
      "img_00696\n",
      "img_00697\n",
      "img_00698\n",
      "img_00699\n",
      "img_00700\n",
      "img_00701\n",
      "img_00702\n",
      "img_00703\n",
      "img_00704\n",
      "img_00705\n",
      "img_00706\n",
      "img_00707\n",
      "img_00708\n",
      "img_00709\n",
      "img_00710\n",
      "img_00711\n",
      "img_00712\n",
      "img_00713\n",
      "img_00714\n",
      "img_00715\n",
      "img_00716\n",
      "img_00717\n",
      "img_00718\n",
      "img_00719\n",
      "img_00720\n",
      "img_00721\n",
      "img_00722\n",
      "img_00723\n",
      "img_00724\n",
      "img_00725\n",
      "img_00726\n",
      "img_00727\n",
      "img_00728\n",
      "img_00729\n",
      "img_00730\n",
      "img_00731\n",
      "img_00732\n",
      "img_00733\n",
      "img_00734\n",
      "img_00735\n",
      "img_00736\n",
      "img_00737\n",
      "img_00738\n",
      "img_00739\n",
      "img_00740\n",
      "img_00741\n",
      "img_00742\n",
      "img_00743\n",
      "img_00744\n",
      "img_00745\n",
      "img_00746\n",
      "img_00747\n",
      "img_00748\n",
      "img_00749\n",
      "img_00750\n",
      "img_00751\n",
      "img_00752\n",
      "img_00753\n",
      "img_00754\n",
      "img_00755\n",
      "img_00756\n",
      "img_00757\n",
      "img_00758\n",
      "img_00759\n",
      "img_00760\n",
      "img_00761\n",
      "img_00762\n",
      "img_00763\n",
      "img_00764\n",
      "img_00765\n",
      "img_00766\n",
      "img_00767\n",
      "img_00768\n",
      "img_00769\n",
      "img_00770\n",
      "img_00771\n",
      "img_00772\n",
      "img_00773\n",
      "img_00774\n",
      "img_00775\n",
      "img_00776\n",
      "img_00777\n",
      "img_00778\n",
      "img_00779\n",
      "img_00780\n",
      "img_00781\n",
      "img_00782\n",
      "img_00783\n",
      "img_00784\n",
      "img_00785\n",
      "img_00786\n",
      "img_00787\n",
      "img_00788\n",
      "img_00789\n",
      "img_00790\n",
      "img_00791\n",
      "img_00792\n",
      "img_00793\n",
      "img_00794\n",
      "img_00795\n",
      "img_00796\n",
      "img_00797\n",
      "img_00798\n",
      "img_00799\n",
      "img_00800\n",
      "img_00801\n",
      "img_00802\n",
      "img_00803\n",
      "img_00804\n",
      "img_00805\n",
      "img_00806\n",
      "img_00807\n",
      "img_00808\n",
      "img_00809\n",
      "img_00810\n",
      "img_00811\n",
      "img_00812\n",
      "img_00813\n",
      "img_00814\n",
      "img_00815\n",
      "img_00816\n",
      "img_00817\n",
      "img_00818\n",
      "img_00819\n",
      "img_00820\n",
      "img_00821\n",
      "img_00822\n",
      "img_00823\n",
      "img_00824\n",
      "img_00825\n",
      "img_00826\n",
      "img_00827\n",
      "img_00828\n",
      "img_00829\n",
      "img_00830\n",
      "img_00831\n",
      "img_00832\n",
      "img_00833\n",
      "img_00834\n",
      "img_00835\n",
      "img_00836\n",
      "img_00837\n",
      "img_00838\n",
      "img_00839\n",
      "img_00840\n",
      "img_00841\n",
      "img_00842\n",
      "img_00843\n",
      "img_00844\n",
      "img_00845\n",
      "img_00846\n",
      "img_00847\n",
      "img_00848\n",
      "img_00849\n",
      "img_00850\n",
      "img_00851\n",
      "img_00852\n",
      "img_00853\n",
      "img_00854\n",
      "img_00855\n",
      "img_00856\n",
      "img_00857\n",
      "img_00858\n",
      "img_00859\n",
      "img_00860\n",
      "img_00861\n",
      "img_00862\n",
      "img_00863\n",
      "img_00864\n",
      "img_00865\n",
      "img_00866\n",
      "img_00867\n",
      "img_00868\n",
      "img_00869\n",
      "img_00870\n",
      "img_00871\n",
      "img_00872\n",
      "img_00873\n",
      "img_00874\n",
      "img_00875\n",
      "img_00876\n",
      "img_00877\n",
      "img_00878\n",
      "img_00879\n",
      "img_00880\n",
      "img_00881\n",
      "img_00882\n",
      "img_00883\n",
      "img_00884\n",
      "img_00885\n",
      "img_00886\n",
      "img_00887\n",
      "img_00888\n",
      "img_00889\n",
      "img_00890\n",
      "img_00891\n",
      "img_00892\n",
      "img_00893\n",
      "img_00894\n",
      "img_00895\n",
      "img_00896\n",
      "img_00897\n",
      "img_00898\n",
      "img_00899\n",
      "img_00900\n",
      "img_00901\n",
      "img_00902\n",
      "img_00903\n",
      "img_00904\n",
      "img_00905\n",
      "img_00906\n",
      "img_00907\n",
      "img_00908\n",
      "img_00909\n",
      "img_00910\n",
      "img_00911\n",
      "img_00912\n",
      "img_00913\n",
      "img_00914\n",
      "img_00915\n",
      "img_00916\n",
      "img_00917\n",
      "img_00918\n",
      "img_00919\n",
      "img_00920\n",
      "img_00921\n",
      "img_00922\n",
      "img_00923\n",
      "img_00924\n",
      "img_00925\n",
      "img_00926\n",
      "img_00927\n",
      "img_00928\n",
      "img_00929\n",
      "img_00930\n",
      "img_00931\n",
      "img_00932\n",
      "img_00933\n",
      "img_00934\n",
      "img_00935\n",
      "img_00936\n",
      "img_00937\n",
      "img_00938\n",
      "img_00939\n",
      "img_00940\n",
      "img_00941\n",
      "img_00942\n",
      "img_00943\n",
      "img_00944\n",
      "img_00945\n",
      "img_00946\n",
      "img_00947\n",
      "img_00948\n",
      "img_00949\n",
      "img_00950\n",
      "img_00951\n",
      "img_00952\n",
      "img_00953\n",
      "img_00954\n",
      "img_00955\n",
      "img_00956\n",
      "img_00957\n",
      "img_00958\n",
      "img_00959\n",
      "img_00960\n",
      "img_00961\n",
      "img_00962\n",
      "img_00963\n",
      "img_00964\n",
      "img_00965\n",
      "img_00966\n",
      "img_00967\n",
      "img_00968\n",
      "img_00969\n",
      "img_00970\n",
      "img_00971\n",
      "img_00972\n",
      "img_00973\n",
      "img_00974\n",
      "img_00975\n",
      "img_00976\n",
      "img_00977\n",
      "img_00978\n",
      "img_00979\n",
      "img_00980\n",
      "img_00981\n",
      "img_00982\n",
      "img_00983\n",
      "img_00984\n",
      "img_00985\n",
      "img_00986\n",
      "img_00987\n",
      "img_00988\n",
      "img_00989\n",
      "img_00990\n",
      "img_00991\n",
      "img_00992\n",
      "img_00993\n",
      "img_00994\n",
      "img_00995\n",
      "img_00996\n",
      "img_00997\n",
      "img_00998\n",
      "img_00999\n",
      "img_01000\n",
      "img_01001\n",
      "img_01002\n",
      "img_01003\n",
      "img_01004\n",
      "img_01005\n",
      "img_01006\n",
      "img_01007\n",
      "img_01008\n",
      "img_01009\n",
      "img_01010\n",
      "img_01011\n",
      "img_01012\n",
      "img_01013\n",
      "img_01014\n",
      "img_01015\n",
      "img_01016\n",
      "img_01017\n",
      "img_01018\n",
      "img_01019\n",
      "img_01020\n",
      "img_01021\n",
      "img_01022\n",
      "img_01023\n",
      "img_01024\n",
      "img_01025\n",
      "img_01026\n",
      "img_01027\n",
      "img_01028\n",
      "img_01029\n",
      "img_01030\n",
      "img_01031\n",
      "img_01032\n",
      "img_01033\n",
      "img_01034\n",
      "img_01035\n",
      "img_01036\n",
      "img_01037\n",
      "img_01038\n",
      "img_01039\n",
      "img_01040\n",
      "img_01041\n",
      "img_01042\n",
      "img_01043\n",
      "img_01044\n",
      "img_01045\n",
      "img_01046\n",
      "img_01047\n",
      "img_01048\n",
      "img_01049\n",
      "img_01050\n",
      "img_01051\n",
      "img_01052\n",
      "img_01053\n",
      "img_01054\n",
      "img_01055\n",
      "img_01056\n",
      "img_01057\n",
      "img_01058\n",
      "img_01059\n",
      "img_01060\n",
      "img_01061\n",
      "img_01062\n",
      "img_01063\n",
      "img_01064\n",
      "img_01065\n",
      "img_01066\n",
      "img_01067\n",
      "img_01068\n",
      "img_01069\n",
      "img_01070\n",
      "img_01071\n",
      "img_01072\n",
      "img_01073\n",
      "img_01074\n",
      "img_01075\n",
      "img_01076\n",
      "img_01077\n",
      "img_01078\n",
      "img_01079\n",
      "img_01080\n",
      "img_01081\n",
      "img_01082\n",
      "img_01083\n",
      "img_01084\n",
      "img_01085\n",
      "img_01086\n",
      "img_01087\n",
      "img_01088\n",
      "img_01089\n",
      "img_01090\n",
      "img_01091\n",
      "img_01092\n",
      "img_01093\n",
      "img_01094\n",
      "img_01095\n",
      "img_01096\n",
      "img_01097\n",
      "img_01098\n",
      "img_01099\n",
      "img_01100\n",
      "img_01101\n",
      "img_01102\n",
      "img_01103\n",
      "img_01104\n",
      "img_01105\n",
      "img_01106\n",
      "img_01107\n",
      "img_01108\n",
      "img_01109\n",
      "img_01110\n",
      "img_01111\n",
      "img_01112\n",
      "img_01113\n",
      "img_01114\n",
      "img_01115\n",
      "img_01116\n",
      "img_01117\n",
      "img_01118\n",
      "img_01119\n",
      "img_01120\n",
      "img_01121\n",
      "img_01122\n",
      "img_01123\n",
      "img_01124\n",
      "img_01125\n",
      "img_01126\n",
      "img_01127\n",
      "img_01128\n",
      "img_01129\n",
      "img_01130\n",
      "img_01131\n",
      "img_01132\n",
      "img_01133\n",
      "img_01134\n",
      "img_01135\n",
      "img_01136\n",
      "img_01137\n",
      "img_01138\n",
      "img_01139\n",
      "img_01140\n",
      "img_01141\n",
      "img_01142\n",
      "img_01143\n",
      "img_01144\n",
      "img_01145\n",
      "img_01146\n",
      "img_01147\n",
      "img_01148\n",
      "img_01149\n",
      "img_01150\n",
      "img_01151\n",
      "img_01152\n",
      "img_01153\n",
      "img_01154\n",
      "img_01155\n",
      "img_01156\n",
      "img_01157\n",
      "img_01158\n",
      "img_01159\n",
      "img_01160\n",
      "img_01161\n",
      "img_01162\n",
      "img_01163\n",
      "img_01164\n",
      "img_01165\n",
      "img_01166\n",
      "img_01167\n",
      "img_01168\n",
      "img_01169\n",
      "img_01170\n",
      "img_01171\n",
      "img_01172\n",
      "img_01173\n",
      "img_01174\n",
      "img_01175\n",
      "img_01176\n",
      "img_01177\n",
      "img_01178\n",
      "img_01179\n",
      "img_01180\n",
      "img_01181\n",
      "img_01182\n",
      "img_01183\n",
      "img_01184\n",
      "img_01185\n",
      "img_01186\n",
      "img_01187\n",
      "img_01188\n",
      "img_01189\n",
      "img_01190\n",
      "img_01191\n",
      "img_01192\n",
      "img_01193\n",
      "img_01194\n",
      "img_01195\n",
      "img_01196\n",
      "img_01197\n",
      "img_01198\n",
      "img_01199\n",
      "img_01200\n",
      "img_01201\n",
      "img_01202\n",
      "img_01203\n",
      "img_01204\n",
      "img_01205\n",
      "img_01206\n",
      "img_01207\n",
      "img_01208\n",
      "img_01209\n",
      "img_01210\n",
      "img_01211\n",
      "img_01212\n",
      "img_01213\n",
      "img_01214\n",
      "img_01215\n",
      "img_01216\n",
      "img_01217\n",
      "img_01218\n",
      "img_01219\n",
      "img_01220\n",
      "img_01221\n",
      "img_01222\n",
      "img_01223\n",
      "img_01224\n",
      "img_01225\n",
      "img_01226\n",
      "img_01227\n",
      "img_01228\n",
      "img_01229\n",
      "img_01230\n",
      "img_01231\n",
      "img_01232\n",
      "img_01233\n",
      "img_01234\n",
      "img_01235\n",
      "img_01236\n",
      "img_01237\n",
      "img_01238\n",
      "img_01239\n",
      "img_01240\n",
      "img_01241\n",
      "img_01242\n",
      "img_01243\n",
      "img_01244\n",
      "img_01245\n",
      "img_01246\n",
      "img_01247\n",
      "img_01248\n",
      "img_01249\n",
      "img_01250\n",
      "img_01251\n",
      "img_01252\n",
      "img_01253\n",
      "img_01254\n",
      "img_01255\n",
      "img_01256\n",
      "img_01257\n",
      "img_01258\n",
      "img_01259\n",
      "img_01260\n",
      "img_01261\n",
      "img_01262\n",
      "img_01263\n",
      "img_01264\n",
      "img_01265\n",
      "img_01266\n",
      "img_01267\n",
      "img_01268\n",
      "img_01269\n",
      "img_01270\n",
      "img_01271\n",
      "img_01272\n",
      "img_01273\n",
      "img_01274\n",
      "img_01275\n",
      "img_01276\n",
      "img_01277\n",
      "img_01278\n",
      "img_01279\n",
      "img_01280\n",
      "img_01281\n",
      "img_01282\n",
      "img_01283\n",
      "img_01284\n",
      "img_01285\n",
      "img_01286\n",
      "img_01287\n",
      "img_01288\n",
      "img_01289\n",
      "img_01290\n",
      "img_01291\n",
      "img_01292\n",
      "img_01293\n",
      "img_01294\n",
      "img_01295\n",
      "img_01296\n",
      "img_01297\n",
      "img_01298\n",
      "img_01299\n",
      "img_01300\n",
      "img_01301\n",
      "img_01302\n",
      "img_01303\n",
      "img_01304\n",
      "img_01305\n",
      "img_01306\n",
      "img_01307\n",
      "img_01308\n",
      "img_01309\n",
      "img_01310\n",
      "img_01311\n",
      "img_01312\n",
      "img_01313\n",
      "img_01314\n",
      "img_01315\n",
      "img_01316\n",
      "img_01317\n",
      "img_01318\n",
      "img_01319\n",
      "img_01320\n",
      "img_01321\n",
      "img_01322\n",
      "img_01323\n",
      "img_01324\n",
      "img_01325\n",
      "img_01326\n",
      "img_01327\n",
      "img_01328\n",
      "img_01329\n",
      "img_01330\n",
      "img_01331\n",
      "img_01332\n",
      "img_01333\n",
      "img_01334\n",
      "img_01335\n",
      "img_01336\n",
      "img_01337\n",
      "img_01338\n",
      "img_01339\n",
      "img_01340\n",
      "img_01341\n",
      "img_01342\n",
      "img_01343\n",
      "img_01344\n",
      "img_01345\n",
      "img_01346\n",
      "img_01347\n",
      "img_01348\n",
      "img_01349\n",
      "img_01350\n",
      "img_01351\n",
      "img_01352\n",
      "img_01353\n",
      "img_01354\n",
      "img_01355\n",
      "img_01356\n",
      "img_01357\n",
      "img_01358\n",
      "img_01359\n",
      "img_01360\n",
      "img_01361\n",
      "img_01362\n",
      "img_01363\n",
      "img_01364\n",
      "img_01365\n",
      "img_01366\n",
      "img_01367\n",
      "img_01368\n",
      "img_01369\n",
      "img_01370\n",
      "img_01371\n",
      "img_01372\n",
      "img_01373\n",
      "img_01374\n",
      "img_01375\n",
      "img_01376\n",
      "img_01377\n",
      "img_01378\n",
      "img_01379\n",
      "img_01380\n"
     ]
    }
   ],
   "source": [
    "name_shape\n",
    "for key in name_shape:\n",
    "    print(key)"
   ]
  },
  {
   "cell_type": "code",
   "execution_count": null,
   "metadata": {},
   "outputs": [],
   "source": [
    "print(subfiles('/tf/temp/nnUNet/nnunet/nnUNet_raw_data_base/nnUNet_raw_data/Task790_GRSR/imagesTs'))\n",
    "print(subfiles('/tf/backup/predict/Task480_GRSR'))\n",
    "\n",
    "def predict_view(NUM:int, test_arr1:str, test_arr2:str):\n",
    "\n",
    "    plt.figure(figsize=(15,30))\n",
    "    \n",
    "    image_arr1 = np.array(nib.load((test_arr1)).dataobj)\n",
    "    image_arr2 = np.array(nib.load(test_arr2).dataobj)\n",
    "\n",
    "    plt.subplot(1,2,1)\n",
    "    plt.imshow(image_arr1[:, :,NUM])\n",
    "    plt.axis('off')\n",
    "    \n",
    "    plt.subplot(1,2,2)    \n",
    "    plt.imshow(image_arr2[:, :, NUM])\n",
    "    plt.axis('off')\n",
    "\n",
    "\n",
    "    plt.show()"
   ]
  },
  {
   "cell_type": "markdown",
   "metadata": {},
   "source": [
    "## Submission"
   ]
  },
  {
   "cell_type": "code",
   "execution_count": 52,
   "metadata": {},
   "outputs": [
    {
     "data": {
      "text/plain": [
       "(512, 512, 100)"
      ]
     },
     "execution_count": 52,
     "metadata": {},
     "output_type": "execute_result"
    }
   ],
   "source": [
    "ima__ = '/tf/backup/predict/Task480_GRSR/img_01100.nii.gz'\n",
    "\n",
    "ima_arr__ = np.array(nib.load(ima__).dataobj)\n",
    "ima_arr__.shape"
   ]
  },
  {
   "cell_type": "code",
   "execution_count": 90,
   "metadata": {},
   "outputs": [
    {
     "ename": "NameError",
     "evalue": "name 'img_name' is not defined",
     "output_type": "error",
     "traceback": [
      "\u001b[0;31m---------------------------------------------------------------------------\u001b[0m",
      "\u001b[0;31mNameError\u001b[0m                                 Traceback (most recent call last)",
      "\u001b[0;32m<ipython-input-90-7759326f7938>\u001b[0m in \u001b[0;36m<module>\u001b[0;34m\u001b[0m\n\u001b[0;32m----> 1\u001b[0;31m data = {'file' : [img_name], 'class' : [class_NUM], 'x1' : [x_1], 'y1' : [y_1],\n\u001b[0m\u001b[1;32m      2\u001b[0m         \u001b[0;34m'x2'\u001b[0m \u001b[0;34m:\u001b[0m \u001b[0;34m[\u001b[0m\u001b[0mx_2\u001b[0m\u001b[0;34m]\u001b[0m\u001b[0;34m,\u001b[0m \u001b[0;34m'y2'\u001b[0m \u001b[0;34m:\u001b[0m \u001b[0;34m[\u001b[0m\u001b[0my_2\u001b[0m\u001b[0;34m]\u001b[0m\u001b[0;34m,\u001b[0m \u001b[0;34m'x3'\u001b[0m \u001b[0;34m:\u001b[0m \u001b[0;34m[\u001b[0m\u001b[0mx_3\u001b[0m\u001b[0;34m]\u001b[0m\u001b[0;34m,\u001b[0m \u001b[0;34m'y3'\u001b[0m \u001b[0;34m:\u001b[0m \u001b[0;34m[\u001b[0m\u001b[0my_3\u001b[0m\u001b[0;34m]\u001b[0m\u001b[0;34m,\u001b[0m\u001b[0;34m\u001b[0m\u001b[0;34m\u001b[0m\u001b[0m\n\u001b[1;32m      3\u001b[0m         \u001b[0;34m'x4'\u001b[0m \u001b[0;34m:\u001b[0m \u001b[0;34m[\u001b[0m\u001b[0mx_4\u001b[0m\u001b[0;34m]\u001b[0m\u001b[0;34m,\u001b[0m \u001b[0;34m'y4'\u001b[0m \u001b[0;34m:\u001b[0m \u001b[0;34m[\u001b[0m\u001b[0my_4\u001b[0m\u001b[0;34m]\u001b[0m\u001b[0;34m,\u001b[0m \u001b[0;34m'x5'\u001b[0m \u001b[0;34m:\u001b[0m \u001b[0;34m[\u001b[0m\u001b[0mx_5\u001b[0m\u001b[0;34m]\u001b[0m\u001b[0;34m,\u001b[0m \u001b[0;34m'y5'\u001b[0m \u001b[0;34m:\u001b[0m \u001b[0;34m[\u001b[0m\u001b[0my_5\u001b[0m\u001b[0;34m]\u001b[0m\u001b[0;34m,\u001b[0m\u001b[0;34m\u001b[0m\u001b[0;34m\u001b[0m\u001b[0m\n\u001b[1;32m      4\u001b[0m         \u001b[0;34m'x6'\u001b[0m \u001b[0;34m:\u001b[0m \u001b[0;34m[\u001b[0m\u001b[0mx_6\u001b[0m\u001b[0;34m]\u001b[0m\u001b[0;34m,\u001b[0m \u001b[0;34m'y6'\u001b[0m \u001b[0;34m:\u001b[0m \u001b[0;34m[\u001b[0m\u001b[0my_6\u001b[0m\u001b[0;34m]\u001b[0m\u001b[0;34m,\u001b[0m \u001b[0;34m'x7'\u001b[0m \u001b[0;34m:\u001b[0m \u001b[0;34m[\u001b[0m\u001b[0mx_7\u001b[0m\u001b[0;34m]\u001b[0m\u001b[0;34m,\u001b[0m \u001b[0;34m'y7'\u001b[0m \u001b[0;34m:\u001b[0m \u001b[0;34m[\u001b[0m\u001b[0my_7\u001b[0m\u001b[0;34m]\u001b[0m\u001b[0;34m,\u001b[0m\u001b[0;34m\u001b[0m\u001b[0;34m\u001b[0m\u001b[0m\n\u001b[1;32m      5\u001b[0m         'x8' : [x_8], 'y8' : [y_8], 'x9' : [x_9], 'y9' : [y_9], 'x10' : [x_10], 'y10' : [y_10]}\n",
      "\u001b[0;31mNameError\u001b[0m: name 'img_name' is not defined"
     ]
    }
   ],
   "source": [
    "data = {'file' : [img_name], 'class' : [class_NUM], 'x1' : [x_1], 'y1' : [y_1],\n",
    "        'x2' : [x_2], 'y2' : [y_2], 'x3' : [x_3], 'y3' : [y_3],\n",
    "        'x4' : [x_4], 'y4' : [y_4], 'x5' : [x_5], 'y5' : [y_5],\n",
    "        'x6' : [x_6], 'y6' : [y_6], 'x7' : [x_7], 'y7' : [y_7],\n",
    "        'x8' : [x_8], 'y8' : [y_8], 'x9' : [x_9], 'y9' : [y_9], 'x10' : [x_10], 'y10' : [y_10]}\n",
    "df = pd.DataFrame(data)"
   ]
  },
  {
   "cell_type": "code",
   "execution_count": 16,
   "metadata": {},
   "outputs": [
    {
     "ename": "NameError",
     "evalue": "name 'ima_arr__' is not defined",
     "output_type": "error",
     "traceback": [
      "\u001b[0;31m---------------------------------------------------------------------------\u001b[0m",
      "\u001b[0;31mNameError\u001b[0m                                 Traceback (most recent call last)",
      "\u001b[0;32m<ipython-input-16-58f50be28386>\u001b[0m in \u001b[0;36m<module>\u001b[0;34m\u001b[0m\n\u001b[0;32m----> 1\u001b[0;31m \u001b[0mvv__\u001b[0m\u001b[0;34m,\u001b[0m \u001b[0mll__\u001b[0m \u001b[0;34m=\u001b[0m \u001b[0mfindMaxVolumeAndPoints\u001b[0m\u001b[0;34m(\u001b[0m\u001b[0mima_arr__\u001b[0m\u001b[0;34m[\u001b[0m\u001b[0;34m:\u001b[0m\u001b[0;34m,\u001b[0m\u001b[0;34m:\u001b[0m\u001b[0;34m,\u001b[0m\u001b[0;36m1\u001b[0m\u001b[0;34m]\u001b[0m\u001b[0;34m)\u001b[0m\u001b[0;34m\u001b[0m\u001b[0;34m\u001b[0m\u001b[0m\n\u001b[0m\u001b[1;32m      2\u001b[0m \u001b[0mll__\u001b[0m\u001b[0;34m\u001b[0m\u001b[0;34m\u001b[0m\u001b[0m\n",
      "\u001b[0;31mNameError\u001b[0m: name 'ima_arr__' is not defined"
     ]
    }
   ],
   "source": [
    "vv__, ll__ = findMaxVolumeAndPoints(ima_arr__[:,:,1])\n",
    "ll__"
   ]
  },
  {
   "cell_type": "code",
   "execution_count": 11,
   "metadata": {},
   "outputs": [],
   "source": [
    "from skimage.measure import label, regionprops\n",
    "from skimage.measure import find_contours, approximate_polygon, subdivide_polygon\n",
    "from sklearn.neighbors import KDTree\n",
    "from sklearn.neighbors import NearestNeighbors\n",
    "import networkx as nx\n",
    "\n",
    "def findMaxVolumeAndPoints(mask_):\n",
    "    # The largest area\n",
    "    props = regionprops(label(np.float64(np.asanyarray(mask_))))\n",
    "    areaList = []\n",
    "    for prop in props:\n",
    "        areaList.append(prop.area)\n",
    "#         print(prop.area)\n",
    "    \n",
    "\n",
    "    maxIndex = np.argmax(areaList)\n",
    "    targetProp = props[maxIndex]\n",
    "#     # debug\n",
    "#     plt.figure()\n",
    "#     plt.imshow(targetProp.image)\n",
    "    \n",
    "    # New image generation\n",
    "    refinedImg = np.zeros(np.shape(mask_))\n",
    "    refinedImg[targetProp.bbox[0]:targetProp.bbox[2], targetProp.bbox[1]:targetProp.bbox[3]] = targetProp.convex_image\n",
    "    refinedImg = np.uint8(refinedImg)\n",
    "    # edge image and their coordinates\n",
    "    edges = cv2.Canny(refinedImg, 0, 1)\n",
    "#     plt.figure()\n",
    "#     plt.imshow(edges)\n",
    "    indices = np.where(edges != [0])\n",
    "    coordinates = np.column_stack((indices[0], indices[1]))\n",
    "\n",
    "    # point order optm.\n",
    "    x = indices[0]\n",
    "    y = indices[1]   \n",
    "    points = np.c_[x, y]\n",
    "\n",
    "    #clf = NearestNeighbors(2).fit(points)\n",
    "    neigh = NearestNeighbors(n_neighbors=3, radius=0.5)\n",
    "    clf = neigh.fit(points)\n",
    "    G = clf.kneighbors_graph()\n",
    "    T = nx.from_scipy_sparse_matrix(G)\n",
    "\n",
    "    paths = [list(nx.dfs_preorder_nodes(T, i)) for i in range(len(points))]\n",
    "    mindist = np.inf\n",
    "    minidx = 0\n",
    "\n",
    "    for i in range(len(points)):\n",
    "        p = paths[i]  # order of nodes\n",
    "        ordered = points[p]  # ordered nodes\n",
    "        # find cost of that order by the sum of euclidean distances between points (i) and (i+1)\n",
    "        cost = (((ordered[:-1] - ordered[1:]) ** 2).sum(1)).sum()\n",
    "        if cost < mindist:\n",
    "            mindist = cost\n",
    "            minidx = i\n",
    "\n",
    "    opt_order = paths[minidx]\n",
    "    xx = x[opt_order]\n",
    "    yy = y[opt_order]\n",
    "\n",
    "    numPoints = 10\n",
    "    stepSizeTemp = np.uint8(np.round(len(xx)/numPoints))\n",
    "\n",
    "    xxExtracted = xx[::stepSizeTemp]\n",
    "    yyExtracted = yy[::stepSizeTemp]\n",
    "    \n",
    "    if len(xxExtracted)==11:\n",
    "        xxExtracted = list(xxExtracted)\n",
    "        yyExtracted = list(yyExtracted)\n",
    "        xxExtracted.pop()\n",
    "        yyExtracted.pop()\n",
    "        xxExtracted = tuple(xxExtracted)\n",
    "        yyExtracted = tuple(yyExtracted)\n",
    "        \n",
    "        \n",
    "        \n",
    "    coordinatesF = np.column_stack((xxExtracted, yyExtracted))\n",
    "    volumeF = targetProp.area\n",
    "\n",
    "#     plt.figure()\n",
    "#     plt.plot(coordinatesF[:, 0], coordinatesF[:, 1])\n",
    "#     plt.plot(xx, yy)\n",
    "#     plt.show()\n",
    "\n",
    "    return volumeF, coordinatesF"
   ]
  },
  {
   "cell_type": "code",
   "execution_count": 14,
   "metadata": {},
   "outputs": [
    {
     "data": {
      "text/plain": [
       "'img_00001'"
      ]
     },
     "execution_count": 14,
     "metadata": {},
     "output_type": "execute_result"
    }
   ],
   "source": [
    "name_shape_list = list(name_shape.keys())\n",
    "name_shape_list[0]"
   ]
  },
  {
   "cell_type": "code",
   "execution_count": 16,
   "metadata": {},
   "outputs": [],
   "source": [
    "def submission_task(Task_input: str):\n",
    "    \n",
    "    task_NameDIC = {'Task480_GRSR': 0, \n",
    "                    'Task481_NDDR': 1, \n",
    "                    'Task482_BFCR': 2, \n",
    "                    'Task483_MSCR': 3, \n",
    "                    'Task484_SIRL': 4, \n",
    "                    'Task485_GRSL': 5, \n",
    "                    'Task486_NDHL': 6, \n",
    "                    'Task487_CLALM3MT': 7, \n",
    "                    'Task488_CLALUCUK': 8}\n",
    "    \n",
    "    Task_Threshold = {'Task480_GRSR': 0.011768341064453125*0.9,\n",
    "                 'Task481_NDDR': 0.007961273193359375*0.9,\n",
    "                 'Task482_BFCR': 0.010486602783203125*0.9,\n",
    "                 'Task483_MSCR': 0.00832366943359375*0.9,\n",
    "                 'Task484_SIRL': 0.004627227783203125*0.9,\n",
    "                 'Task485_GRSL': 0.00714874267578125*0.9,\n",
    "                 'Task486_NDHL': 0.009521484375*0.9,\n",
    "                 'Task487_CLALM3MT': 0.0224609375*0.9,\n",
    "                 'Task488_CLALUCUK': 0.023807525634765625*0.9}\n",
    "    \n",
    "    Pred_dir = '/tf/backup/predict/'\n",
    "    Task_path = os.path.join(Pred_dir, Task_input)\n",
    "    Task_list = subfiles(Task_path, suffix='.nii.gz', join=False)\n",
    "    COUNT_iter = 0\n",
    "    name_shape_list = list(name_shape.keys())\n",
    "    \n",
    "    for Tl_ in notebook.tqdm(Task_list):\n",
    "        \n",
    "        Tl_path = os.path.join(Task_path, Tl_)\n",
    "        \n",
    "        Tl_arr = np.array(nib.load(Tl_path).dataobj) # Tl_arr : (x,y,z) z : slice\n",
    "        \n",
    "        # cv2.resize(Tl_arr, dsize=(1980, 1980), interpolation=cv2.INTER_CUBIC)\n",
    "        \n",
    "        _, _, Tl_z = Tl_arr.shape\n",
    "        \n",
    "        \n",
    "        for z_ in notebook.tqdm(range(Tl_z)):\n",
    "            \n",
    "            img_name = name_shape_list[COUNT_iter]\n",
    "            \n",
    "            dsize_x, dsize_y, _ = name_shape[img_name]\n",
    "            \n",
    "            Tl_arr_resize = cv2.resize(Tl_arr[:,:,z_], dsize=(dsize_x, dsize_y), interpolation=cv2.INTER_CUBIC)\n",
    "            \n",
    "            try:\n",
    "            # if True:\n",
    "\n",
    "                volume_f, Tl_arr_xy = findMaxVolumeAndPoints(Tl_arr_resize) # If add\n",
    "\n",
    "                # print(volume_f/(dsize_x*dsize_y) , Task_Threshold[Task_input])\n",
    "                if volume_f/(dsize_x*dsize_y) > Task_Threshold[Task_input]:\n",
    "\n",
    "                    IMG_NAME = img_name\n",
    "\n",
    "                    class_NUM = task_NameDIC[Task_input]\n",
    "\n",
    "                    x_1, y_1 = Tl_arr_xy[0]\n",
    "                    x_2, y_2 = Tl_arr_xy[1]\n",
    "                    x_3, y_3 = Tl_arr_xy[2]\n",
    "                    x_4, y_4 = Tl_arr_xy[3]\n",
    "                    x_5, y_5 = Tl_arr_xy[4]\n",
    "                    x_6, y_6 = Tl_arr_xy[5]\n",
    "                    x_7, y_7 = Tl_arr_xy[6]\n",
    "                    x_8, y_8 = Tl_arr_xy[7]\n",
    "                    x_9, y_9 = Tl_arr_xy[8]\n",
    "                    x_10, y_10 = Tl_arr_xy[9]\n",
    "\n",
    "\n",
    "                    submission_Row = {'file' : [IMG_NAME], 'class' : [class_NUM], 'x1' : [x_1], 'y1' : [y_1],\n",
    "                    'x2' : [x_2], 'y2' : [y_2], 'x3' : [x_3], 'y3' : [y_3],\n",
    "                    'x4' : [x_4], 'y4' : [y_4], 'x5' : [x_5], 'y5' : [y_5],\n",
    "                    'x6' : [x_6], 'y6' : [y_6], 'x7' : [x_7], 'y7' : [y_7],\n",
    "                    'x8' : [x_8], 'y8' : [y_8], 'x9' : [x_9], 'y9' : [y_9], 'x10' : [x_10], 'y10' : [y_10]}\n",
    "\n",
    "                    df = pd.DataFrame(submission_Row)\n",
    "\n",
    "                    # .to_csv\n",
    "                    if not os.path.exists('submission_{}.csv'.format(Task_input)):\n",
    "                        df.to_csv('submission_{}.csv'.format(Task_input), index=False, mode='w')\n",
    "                    else:\n",
    "                        df.to_csv('submission_{}.csv'.format(Task_input), index=False, mode='a', header=False)\n",
    "                \n",
    "                # del IMG_NAME, class_NUM, x_1, y_1, x_2, y_2, x_3, y_3, x_4, y_4, x_5, y_5, x_6, y_6\n",
    "                # del x_7, y_7, x_8, y_8, x_9, y_9, x_10, y_10\n",
    "\n",
    "            except:\n",
    "                print('Exception occurred. -> {}'.format(img_name))\n",
    "                \n",
    "                \n",
    "            \n",
    "            COUNT_iter += 1\n",
    "            \n",
    "\n",
    "        \n",
    "        \n",
    "    return None"
   ]
  },
  {
   "cell_type": "code",
   "execution_count": 17,
   "metadata": {},
   "outputs": [
    {
     "data": {
      "application/vnd.jupyter.widget-view+json": {
       "model_id": "b4f3933d7a574ea2a7de86fc9312694a",
       "version_major": 2,
       "version_minor": 0
      },
      "text/plain": [
       "  0%|          | 0/14 [00:00<?, ?it/s]"
      ]
     },
     "metadata": {},
     "output_type": "display_data"
    },
    {
     "data": {
      "application/vnd.jupyter.widget-view+json": {
       "model_id": "3d07aed3bb1f4556a63e0fa9ea6fb4c8",
       "version_major": 2,
       "version_minor": 0
      },
      "text/plain": [
       "  0%|          | 0/100 [00:00<?, ?it/s]"
      ]
     },
     "metadata": {},
     "output_type": "display_data"
    },
    {
     "data": {
      "application/vnd.jupyter.widget-view+json": {
       "model_id": "4ef1fd2630214f9d9e2465edd3042b32",
       "version_major": 2,
       "version_minor": 0
      },
      "text/plain": [
       "  0%|          | 0/100 [00:00<?, ?it/s]"
      ]
     },
     "metadata": {},
     "output_type": "display_data"
    },
    {
     "name": "stdout",
     "output_type": "stream",
     "text": [
      "Exception occurred. -> img_00183\n"
     ]
    },
    {
     "data": {
      "application/vnd.jupyter.widget-view+json": {
       "model_id": "28e64e67920c4ce6ab7410b39b1425eb",
       "version_major": 2,
       "version_minor": 0
      },
      "text/plain": [
       "  0%|          | 0/100 [00:00<?, ?it/s]"
      ]
     },
     "metadata": {},
     "output_type": "display_data"
    },
    {
     "data": {
      "application/vnd.jupyter.widget-view+json": {
       "model_id": "80d81f8fecca44ca96f08ab281dbb470",
       "version_major": 2,
       "version_minor": 0
      },
      "text/plain": [
       "  0%|          | 0/100 [00:00<?, ?it/s]"
      ]
     },
     "metadata": {},
     "output_type": "display_data"
    },
    {
     "data": {
      "application/vnd.jupyter.widget-view+json": {
       "model_id": "2950cbabe4414ab8b9e23063d1731f21",
       "version_major": 2,
       "version_minor": 0
      },
      "text/plain": [
       "  0%|          | 0/100 [00:00<?, ?it/s]"
      ]
     },
     "metadata": {},
     "output_type": "display_data"
    },
    {
     "data": {
      "application/vnd.jupyter.widget-view+json": {
       "model_id": "d38a6a66638d4e86819531ab660f0122",
       "version_major": 2,
       "version_minor": 0
      },
      "text/plain": [
       "  0%|          | 0/100 [00:00<?, ?it/s]"
      ]
     },
     "metadata": {},
     "output_type": "display_data"
    },
    {
     "data": {
      "application/vnd.jupyter.widget-view+json": {
       "model_id": "cc493bccda66496aa0f4e4d2444d62a7",
       "version_major": 2,
       "version_minor": 0
      },
      "text/plain": [
       "  0%|          | 0/100 [00:00<?, ?it/s]"
      ]
     },
     "metadata": {},
     "output_type": "display_data"
    },
    {
     "data": {
      "application/vnd.jupyter.widget-view+json": {
       "model_id": "18c288c7bae948d581199799367fbecc",
       "version_major": 2,
       "version_minor": 0
      },
      "text/plain": [
       "  0%|          | 0/100 [00:00<?, ?it/s]"
      ]
     },
     "metadata": {},
     "output_type": "display_data"
    },
    {
     "data": {
      "application/vnd.jupyter.widget-view+json": {
       "model_id": "48d6aff7592442d5a2078dbd92ce4a75",
       "version_major": 2,
       "version_minor": 0
      },
      "text/plain": [
       "  0%|          | 0/100 [00:00<?, ?it/s]"
      ]
     },
     "metadata": {},
     "output_type": "display_data"
    },
    {
     "data": {
      "application/vnd.jupyter.widget-view+json": {
       "model_id": "95149a568ed74256bc25282923217c86",
       "version_major": 2,
       "version_minor": 0
      },
      "text/plain": [
       "  0%|          | 0/100 [00:00<?, ?it/s]"
      ]
     },
     "metadata": {},
     "output_type": "display_data"
    },
    {
     "data": {
      "application/vnd.jupyter.widget-view+json": {
       "model_id": "459c0997919d4914b3bc04f0c895ec3f",
       "version_major": 2,
       "version_minor": 0
      },
      "text/plain": [
       "  0%|          | 0/100 [00:00<?, ?it/s]"
      ]
     },
     "metadata": {},
     "output_type": "display_data"
    },
    {
     "data": {
      "application/vnd.jupyter.widget-view+json": {
       "model_id": "b78038c6c6004671b7cee618db0acfba",
       "version_major": 2,
       "version_minor": 0
      },
      "text/plain": [
       "  0%|          | 0/100 [00:00<?, ?it/s]"
      ]
     },
     "metadata": {},
     "output_type": "display_data"
    },
    {
     "data": {
      "application/vnd.jupyter.widget-view+json": {
       "model_id": "faaecc74d1cb4690b1292fd68329f04a",
       "version_major": 2,
       "version_minor": 0
      },
      "text/plain": [
       "  0%|          | 0/100 [00:00<?, ?it/s]"
      ]
     },
     "metadata": {},
     "output_type": "display_data"
    },
    {
     "data": {
      "application/vnd.jupyter.widget-view+json": {
       "model_id": "fa8122cc7d7944e69398960b7353c913",
       "version_major": 2,
       "version_minor": 0
      },
      "text/plain": [
       "  0%|          | 0/80 [00:00<?, ?it/s]"
      ]
     },
     "metadata": {},
     "output_type": "display_data"
    }
   ],
   "source": [
    "submission_task('Task480_GRSR')"
   ]
  },
  {
   "cell_type": "code",
   "execution_count": 18,
   "metadata": {
    "scrolled": false
   },
   "outputs": [
    {
     "data": {
      "application/vnd.jupyter.widget-view+json": {
       "model_id": "880a8013877f484482999f952068951a",
       "version_major": 2,
       "version_minor": 0
      },
      "text/plain": [
       "  0%|          | 0/14 [00:00<?, ?it/s]"
      ]
     },
     "metadata": {},
     "output_type": "display_data"
    },
    {
     "data": {
      "application/vnd.jupyter.widget-view+json": {
       "model_id": "20d85afa64e942eabd76e94376a432d6",
       "version_major": 2,
       "version_minor": 0
      },
      "text/plain": [
       "  0%|          | 0/100 [00:00<?, ?it/s]"
      ]
     },
     "metadata": {},
     "output_type": "display_data"
    },
    {
     "data": {
      "application/vnd.jupyter.widget-view+json": {
       "model_id": "f5c8ef63039441c99097932e0ef95ee7",
       "version_major": 2,
       "version_minor": 0
      },
      "text/plain": [
       "  0%|          | 0/100 [00:00<?, ?it/s]"
      ]
     },
     "metadata": {},
     "output_type": "display_data"
    },
    {
     "data": {
      "application/vnd.jupyter.widget-view+json": {
       "model_id": "8eceea7529514847ac264588c97795a8",
       "version_major": 2,
       "version_minor": 0
      },
      "text/plain": [
       "  0%|          | 0/100 [00:00<?, ?it/s]"
      ]
     },
     "metadata": {},
     "output_type": "display_data"
    },
    {
     "name": "stdout",
     "output_type": "stream",
     "text": [
      "Exception occurred. -> img_00251\n"
     ]
    },
    {
     "data": {
      "application/vnd.jupyter.widget-view+json": {
       "model_id": "96c54b4ddcba40419ae6d628d8d23aeb",
       "version_major": 2,
       "version_minor": 0
      },
      "text/plain": [
       "  0%|          | 0/100 [00:00<?, ?it/s]"
      ]
     },
     "metadata": {},
     "output_type": "display_data"
    },
    {
     "data": {
      "application/vnd.jupyter.widget-view+json": {
       "model_id": "9beae5f88a1240f197edd26eac2143e3",
       "version_major": 2,
       "version_minor": 0
      },
      "text/plain": [
       "  0%|          | 0/100 [00:00<?, ?it/s]"
      ]
     },
     "metadata": {},
     "output_type": "display_data"
    },
    {
     "name": "stdout",
     "output_type": "stream",
     "text": [
      "Exception occurred. -> img_00465\n"
     ]
    },
    {
     "data": {
      "application/vnd.jupyter.widget-view+json": {
       "model_id": "132f149d367c49eba84050819df418c2",
       "version_major": 2,
       "version_minor": 0
      },
      "text/plain": [
       "  0%|          | 0/100 [00:00<?, ?it/s]"
      ]
     },
     "metadata": {},
     "output_type": "display_data"
    },
    {
     "data": {
      "application/vnd.jupyter.widget-view+json": {
       "model_id": "da285248d01649c9bf3642bdc3bcbf95",
       "version_major": 2,
       "version_minor": 0
      },
      "text/plain": [
       "  0%|          | 0/100 [00:00<?, ?it/s]"
      ]
     },
     "metadata": {},
     "output_type": "display_data"
    },
    {
     "data": {
      "application/vnd.jupyter.widget-view+json": {
       "model_id": "97c8f393ef9d41ed801d14bf313ce0c4",
       "version_major": 2,
       "version_minor": 0
      },
      "text/plain": [
       "  0%|          | 0/100 [00:00<?, ?it/s]"
      ]
     },
     "metadata": {},
     "output_type": "display_data"
    },
    {
     "data": {
      "application/vnd.jupyter.widget-view+json": {
       "model_id": "d4acab883ce2467c9d18b0f78a12e3e4",
       "version_major": 2,
       "version_minor": 0
      },
      "text/plain": [
       "  0%|          | 0/100 [00:00<?, ?it/s]"
      ]
     },
     "metadata": {},
     "output_type": "display_data"
    },
    {
     "data": {
      "application/vnd.jupyter.widget-view+json": {
       "model_id": "53b1ab9bf1af4af093d2c256bcecc07f",
       "version_major": 2,
       "version_minor": 0
      },
      "text/plain": [
       "  0%|          | 0/100 [00:00<?, ?it/s]"
      ]
     },
     "metadata": {},
     "output_type": "display_data"
    },
    {
     "data": {
      "application/vnd.jupyter.widget-view+json": {
       "model_id": "038e1fa97b69420483d2545f7436c72a",
       "version_major": 2,
       "version_minor": 0
      },
      "text/plain": [
       "  0%|          | 0/100 [00:00<?, ?it/s]"
      ]
     },
     "metadata": {},
     "output_type": "display_data"
    },
    {
     "data": {
      "application/vnd.jupyter.widget-view+json": {
       "model_id": "65c2155834e84842b51a700bde64042c",
       "version_major": 2,
       "version_minor": 0
      },
      "text/plain": [
       "  0%|          | 0/100 [00:00<?, ?it/s]"
      ]
     },
     "metadata": {},
     "output_type": "display_data"
    },
    {
     "data": {
      "application/vnd.jupyter.widget-view+json": {
       "model_id": "913b19b200494669891e81856748819b",
       "version_major": 2,
       "version_minor": 0
      },
      "text/plain": [
       "  0%|          | 0/100 [00:00<?, ?it/s]"
      ]
     },
     "metadata": {},
     "output_type": "display_data"
    },
    {
     "data": {
      "application/vnd.jupyter.widget-view+json": {
       "model_id": "25fcd0a671cb4787a692db853d641df3",
       "version_major": 2,
       "version_minor": 0
      },
      "text/plain": [
       "  0%|          | 0/80 [00:00<?, ?it/s]"
      ]
     },
     "metadata": {},
     "output_type": "display_data"
    }
   ],
   "source": [
    "submission_task('Task481_NDDR')"
   ]
  },
  {
   "cell_type": "code",
   "execution_count": null,
   "metadata": {
    "scrolled": false
   },
   "outputs": [
    {
     "data": {
      "application/vnd.jupyter.widget-view+json": {
       "model_id": "738c24fe69f44c2fa7cb36867ccdb104",
       "version_major": 2,
       "version_minor": 0
      },
      "text/plain": [
       "  0%|          | 0/14 [00:00<?, ?it/s]"
      ]
     },
     "metadata": {},
     "output_type": "display_data"
    },
    {
     "data": {
      "application/vnd.jupyter.widget-view+json": {
       "model_id": "086458872dbb4cf9b61213e239828d9c",
       "version_major": 2,
       "version_minor": 0
      },
      "text/plain": [
       "  0%|          | 0/100 [00:00<?, ?it/s]"
      ]
     },
     "metadata": {},
     "output_type": "display_data"
    },
    {
     "data": {
      "application/vnd.jupyter.widget-view+json": {
       "model_id": "e4b803b555de4734b9d83410c52c8c6a",
       "version_major": 2,
       "version_minor": 0
      },
      "text/plain": [
       "  0%|          | 0/100 [00:00<?, ?it/s]"
      ]
     },
     "metadata": {},
     "output_type": "display_data"
    },
    {
     "data": {
      "application/vnd.jupyter.widget-view+json": {
       "model_id": "6db20f9b6c384a0b8d9490153e8fabe0",
       "version_major": 2,
       "version_minor": 0
      },
      "text/plain": [
       "  0%|          | 0/100 [00:00<?, ?it/s]"
      ]
     },
     "metadata": {},
     "output_type": "display_data"
    }
   ],
   "source": [
    "submission_task('Task482_BFCR')"
   ]
  },
  {
   "cell_type": "code",
   "execution_count": null,
   "metadata": {},
   "outputs": [],
   "source": [
    "submission_task('Task483_MSCR')"
   ]
  },
  {
   "cell_type": "code",
   "execution_count": null,
   "metadata": {},
   "outputs": [],
   "source": [
    "submission_task('Task484_SIRL')"
   ]
  },
  {
   "cell_type": "code",
   "execution_count": 22,
   "metadata": {},
   "outputs": [
    {
     "data": {
      "application/vnd.jupyter.widget-view+json": {
       "model_id": "765ea60d21e84db4ba66d63e21e3179d",
       "version_major": 2,
       "version_minor": 0
      },
      "text/plain": [
       "  0%|          | 0/14 [00:00<?, ?it/s]"
      ]
     },
     "metadata": {},
     "output_type": "display_data"
    },
    {
     "data": {
      "application/vnd.jupyter.widget-view+json": {
       "model_id": "868176b907bb49bdb5da39965b578bfd",
       "version_major": 2,
       "version_minor": 0
      },
      "text/plain": [
       "  0%|          | 0/100 [00:00<?, ?it/s]"
      ]
     },
     "metadata": {},
     "output_type": "display_data"
    },
    {
     "name": "stdout",
     "output_type": "stream",
     "text": [
      "Exception occurred. -> img_00029\n",
      "Exception occurred. -> img_00032\n",
      "Exception occurred. -> img_00041\n",
      "Exception occurred. -> img_00046\n",
      "Exception occurred. -> img_00052\n",
      "Exception occurred. -> img_00068\n",
      "Exception occurred. -> img_00070\n",
      "Exception occurred. -> img_00075\n",
      "Exception occurred. -> img_00084\n"
     ]
    },
    {
     "data": {
      "application/vnd.jupyter.widget-view+json": {
       "model_id": "85095dfe25754afcac6eed0727c7ac99",
       "version_major": 2,
       "version_minor": 0
      },
      "text/plain": [
       "  0%|          | 0/100 [00:00<?, ?it/s]"
      ]
     },
     "metadata": {},
     "output_type": "display_data"
    },
    {
     "name": "stdout",
     "output_type": "stream",
     "text": [
      "Exception occurred. -> img_00105\n",
      "Exception occurred. -> img_00115\n",
      "Exception occurred. -> img_00127\n",
      "Exception occurred. -> img_00132\n",
      "Exception occurred. -> img_00147\n",
      "Exception occurred. -> img_00154\n",
      "Exception occurred. -> img_00155\n",
      "Exception occurred. -> img_00161\n",
      "Exception occurred. -> img_00175\n",
      "Exception occurred. -> img_00180\n",
      "Exception occurred. -> img_00188\n",
      "Exception occurred. -> img_00190\n",
      "Exception occurred. -> img_00192\n",
      "Exception occurred. -> img_00193\n",
      "Exception occurred. -> img_00194\n",
      "Exception occurred. -> img_00197\n"
     ]
    },
    {
     "data": {
      "application/vnd.jupyter.widget-view+json": {
       "model_id": "39a666f0f67d41ce9a833f7f1727cc49",
       "version_major": 2,
       "version_minor": 0
      },
      "text/plain": [
       "  0%|          | 0/100 [00:00<?, ?it/s]"
      ]
     },
     "metadata": {},
     "output_type": "display_data"
    },
    {
     "name": "stdout",
     "output_type": "stream",
     "text": [
      "Exception occurred. -> img_00201\n",
      "Exception occurred. -> img_00205\n",
      "Exception occurred. -> img_00206\n",
      "Exception occurred. -> img_00229\n",
      "Exception occurred. -> img_00240\n",
      "Exception occurred. -> img_00245\n",
      "Exception occurred. -> img_00250\n",
      "Exception occurred. -> img_00267\n",
      "Exception occurred. -> img_00281\n",
      "Exception occurred. -> img_00282\n",
      "Exception occurred. -> img_00285\n",
      "Exception occurred. -> img_00300\n"
     ]
    },
    {
     "data": {
      "application/vnd.jupyter.widget-view+json": {
       "model_id": "455270974ff34b988c4c4349836eabac",
       "version_major": 2,
       "version_minor": 0
      },
      "text/plain": [
       "  0%|          | 0/100 [00:00<?, ?it/s]"
      ]
     },
     "metadata": {},
     "output_type": "display_data"
    },
    {
     "name": "stdout",
     "output_type": "stream",
     "text": [
      "Exception occurred. -> img_00311\n",
      "Exception occurred. -> img_00318\n",
      "Exception occurred. -> img_00319\n",
      "Exception occurred. -> img_00327\n",
      "Exception occurred. -> img_00335\n",
      "Exception occurred. -> img_00389\n",
      "Exception occurred. -> img_00392\n"
     ]
    },
    {
     "data": {
      "application/vnd.jupyter.widget-view+json": {
       "model_id": "5ebc5d4da9d04e6b8344ea15c2981855",
       "version_major": 2,
       "version_minor": 0
      },
      "text/plain": [
       "  0%|          | 0/100 [00:00<?, ?it/s]"
      ]
     },
     "metadata": {},
     "output_type": "display_data"
    },
    {
     "name": "stdout",
     "output_type": "stream",
     "text": [
      "Exception occurred. -> img_00402\n",
      "Exception occurred. -> img_00406\n",
      "Exception occurred. -> img_00412\n",
      "Exception occurred. -> img_00437\n",
      "Exception occurred. -> img_00455\n",
      "Exception occurred. -> img_00456\n",
      "Exception occurred. -> img_00463\n",
      "Exception occurred. -> img_00474\n",
      "Exception occurred. -> img_00482\n",
      "Exception occurred. -> img_00483\n",
      "Exception occurred. -> img_00492\n",
      "Exception occurred. -> img_00497\n"
     ]
    },
    {
     "data": {
      "application/vnd.jupyter.widget-view+json": {
       "model_id": "329d3fd00d6e4f3589685182e521f314",
       "version_major": 2,
       "version_minor": 0
      },
      "text/plain": [
       "  0%|          | 0/100 [00:00<?, ?it/s]"
      ]
     },
     "metadata": {},
     "output_type": "display_data"
    },
    {
     "name": "stdout",
     "output_type": "stream",
     "text": [
      "Exception occurred. -> img_00502\n",
      "Exception occurred. -> img_00516\n",
      "Exception occurred. -> img_00517\n",
      "Exception occurred. -> img_00532\n",
      "Exception occurred. -> img_00534\n",
      "Exception occurred. -> img_00542\n",
      "Exception occurred. -> img_00550\n",
      "Exception occurred. -> img_00562\n",
      "Exception occurred. -> img_00565\n",
      "Exception occurred. -> img_00569\n",
      "Exception occurred. -> img_00596\n"
     ]
    },
    {
     "data": {
      "application/vnd.jupyter.widget-view+json": {
       "model_id": "31d09c4cb9f94b279b2d2080a0293d96",
       "version_major": 2,
       "version_minor": 0
      },
      "text/plain": [
       "  0%|          | 0/100 [00:00<?, ?it/s]"
      ]
     },
     "metadata": {},
     "output_type": "display_data"
    },
    {
     "name": "stdout",
     "output_type": "stream",
     "text": [
      "Exception occurred. -> img_00622\n",
      "Exception occurred. -> img_00630\n",
      "Exception occurred. -> img_00649\n",
      "Exception occurred. -> img_00653\n",
      "Exception occurred. -> img_00657\n",
      "Exception occurred. -> img_00660\n",
      "Exception occurred. -> img_00667\n",
      "Exception occurred. -> img_00687\n",
      "Exception occurred. -> img_00697\n"
     ]
    },
    {
     "data": {
      "application/vnd.jupyter.widget-view+json": {
       "model_id": "b17e95704a9c4e9885b0389c54948c7a",
       "version_major": 2,
       "version_minor": 0
      },
      "text/plain": [
       "  0%|          | 0/100 [00:00<?, ?it/s]"
      ]
     },
     "metadata": {},
     "output_type": "display_data"
    },
    {
     "name": "stdout",
     "output_type": "stream",
     "text": [
      "Exception occurred. -> img_00701\n",
      "Exception occurred. -> img_00707\n",
      "Exception occurred. -> img_00711\n",
      "Exception occurred. -> img_00745\n",
      "Exception occurred. -> img_00752\n",
      "Exception occurred. -> img_00754\n",
      "Exception occurred. -> img_00755\n",
      "Exception occurred. -> img_00765\n",
      "Exception occurred. -> img_00773\n",
      "Exception occurred. -> img_00778\n",
      "Exception occurred. -> img_00790\n"
     ]
    },
    {
     "data": {
      "application/vnd.jupyter.widget-view+json": {
       "model_id": "6fe9198790ad4d97a44d0af84f88fb59",
       "version_major": 2,
       "version_minor": 0
      },
      "text/plain": [
       "  0%|          | 0/100 [00:00<?, ?it/s]"
      ]
     },
     "metadata": {},
     "output_type": "display_data"
    },
    {
     "name": "stdout",
     "output_type": "stream",
     "text": [
      "Exception occurred. -> img_00803\n",
      "Exception occurred. -> img_00816\n",
      "Exception occurred. -> img_00817\n",
      "Exception occurred. -> img_00824\n",
      "Exception occurred. -> img_00836\n",
      "Exception occurred. -> img_00838\n",
      "Exception occurred. -> img_00845\n",
      "Exception occurred. -> img_00849\n",
      "Exception occurred. -> img_00861\n",
      "Exception occurred. -> img_00863\n",
      "Exception occurred. -> img_00870\n",
      "Exception occurred. -> img_00897\n",
      "Exception occurred. -> img_00899\n"
     ]
    },
    {
     "data": {
      "application/vnd.jupyter.widget-view+json": {
       "model_id": "edd36f00d1794db9be986ec898ed0685",
       "version_major": 2,
       "version_minor": 0
      },
      "text/plain": [
       "  0%|          | 0/100 [00:00<?, ?it/s]"
      ]
     },
     "metadata": {},
     "output_type": "display_data"
    },
    {
     "name": "stdout",
     "output_type": "stream",
     "text": [
      "Exception occurred. -> img_00901\n",
      "Exception occurred. -> img_00904\n",
      "Exception occurred. -> img_00906\n",
      "Exception occurred. -> img_00923\n",
      "Exception occurred. -> img_00924\n",
      "Exception occurred. -> img_00928\n",
      "Exception occurred. -> img_00930\n",
      "Exception occurred. -> img_00937\n",
      "Exception occurred. -> img_00938\n",
      "Exception occurred. -> img_00948\n",
      "Exception occurred. -> img_00952\n",
      "Exception occurred. -> img_00955\n",
      "Exception occurred. -> img_00956\n",
      "Exception occurred. -> img_00970\n",
      "Exception occurred. -> img_00980\n",
      "Exception occurred. -> img_00992\n"
     ]
    },
    {
     "data": {
      "application/vnd.jupyter.widget-view+json": {
       "model_id": "604d0fb614cd431383696295451534b5",
       "version_major": 2,
       "version_minor": 0
      },
      "text/plain": [
       "  0%|          | 0/100 [00:00<?, ?it/s]"
      ]
     },
     "metadata": {},
     "output_type": "display_data"
    },
    {
     "name": "stdout",
     "output_type": "stream",
     "text": [
      "Exception occurred. -> img_01001\n",
      "Exception occurred. -> img_01005\n",
      "Exception occurred. -> img_01006\n",
      "Exception occurred. -> img_01015\n",
      "Exception occurred. -> img_01017\n",
      "Exception occurred. -> img_01018\n",
      "Exception occurred. -> img_01035\n",
      "Exception occurred. -> img_01062\n",
      "Exception occurred. -> img_01072\n",
      "Exception occurred. -> img_01077\n",
      "Exception occurred. -> img_01080\n",
      "Exception occurred. -> img_01090\n"
     ]
    },
    {
     "data": {
      "application/vnd.jupyter.widget-view+json": {
       "model_id": "1c86a12e7d2d494696f194f9017eb473",
       "version_major": 2,
       "version_minor": 0
      },
      "text/plain": [
       "  0%|          | 0/100 [00:00<?, ?it/s]"
      ]
     },
     "metadata": {},
     "output_type": "display_data"
    },
    {
     "name": "stdout",
     "output_type": "stream",
     "text": [
      "Exception occurred. -> img_01114\n",
      "Exception occurred. -> img_01116\n",
      "Exception occurred. -> img_01124\n",
      "Exception occurred. -> img_01136\n",
      "Exception occurred. -> img_01142\n",
      "Exception occurred. -> img_01143\n",
      "Exception occurred. -> img_01144\n",
      "Exception occurred. -> img_01160\n",
      "Exception occurred. -> img_01173\n",
      "Exception occurred. -> img_01175\n",
      "Exception occurred. -> img_01185\n",
      "Exception occurred. -> img_01186\n",
      "Exception occurred. -> img_01194\n",
      "Exception occurred. -> img_01195\n"
     ]
    },
    {
     "data": {
      "application/vnd.jupyter.widget-view+json": {
       "model_id": "dd1162a7d8774554928bd0cce5269988",
       "version_major": 2,
       "version_minor": 0
      },
      "text/plain": [
       "  0%|          | 0/100 [00:00<?, ?it/s]"
      ]
     },
     "metadata": {},
     "output_type": "display_data"
    },
    {
     "name": "stdout",
     "output_type": "stream",
     "text": [
      "Exception occurred. -> img_01205\n",
      "Exception occurred. -> img_01240\n",
      "Exception occurred. -> img_01255\n",
      "Exception occurred. -> img_01258\n",
      "Exception occurred. -> img_01278\n",
      "Exception occurred. -> img_01281\n",
      "Exception occurred. -> img_01282\n",
      "Exception occurred. -> img_01291\n"
     ]
    },
    {
     "data": {
      "application/vnd.jupyter.widget-view+json": {
       "model_id": "15a9d6eda51b48968311d794372d5b63",
       "version_major": 2,
       "version_minor": 0
      },
      "text/plain": [
       "  0%|          | 0/80 [00:00<?, ?it/s]"
      ]
     },
     "metadata": {},
     "output_type": "display_data"
    },
    {
     "name": "stdout",
     "output_type": "stream",
     "text": [
      "Exception occurred. -> img_01311\n",
      "Exception occurred. -> img_01314\n",
      "Exception occurred. -> img_01324\n",
      "Exception occurred. -> img_01328\n",
      "Exception occurred. -> img_01340\n",
      "Exception occurred. -> img_01358\n",
      "Exception occurred. -> img_01365\n",
      "Exception occurred. -> img_01369\n",
      "Exception occurred. -> img_01375\n",
      "Exception occurred. -> img_01376\n"
     ]
    }
   ],
   "source": [
    "submission_task('Task485_GRSL')"
   ]
  },
  {
   "cell_type": "code",
   "execution_count": 23,
   "metadata": {},
   "outputs": [
    {
     "data": {
      "application/vnd.jupyter.widget-view+json": {
       "model_id": "75f178f0285d47fab756485e9b5679a6",
       "version_major": 2,
       "version_minor": 0
      },
      "text/plain": [
       "  0%|          | 0/14 [00:00<?, ?it/s]"
      ]
     },
     "metadata": {},
     "output_type": "display_data"
    },
    {
     "data": {
      "application/vnd.jupyter.widget-view+json": {
       "model_id": "388ee7307f5747edb03f63b4e2629ebe",
       "version_major": 2,
       "version_minor": 0
      },
      "text/plain": [
       "  0%|          | 0/100 [00:00<?, ?it/s]"
      ]
     },
     "metadata": {},
     "output_type": "display_data"
    },
    {
     "data": {
      "application/vnd.jupyter.widget-view+json": {
       "model_id": "6eaec430e1694465ad896dd5cf4c6251",
       "version_major": 2,
       "version_minor": 0
      },
      "text/plain": [
       "  0%|          | 0/100 [00:00<?, ?it/s]"
      ]
     },
     "metadata": {},
     "output_type": "display_data"
    },
    {
     "data": {
      "application/vnd.jupyter.widget-view+json": {
       "model_id": "015b5041b626428fbc9e3e894fda15f4",
       "version_major": 2,
       "version_minor": 0
      },
      "text/plain": [
       "  0%|          | 0/100 [00:00<?, ?it/s]"
      ]
     },
     "metadata": {},
     "output_type": "display_data"
    },
    {
     "data": {
      "application/vnd.jupyter.widget-view+json": {
       "model_id": "0da2c726c77b4f128039e8ac7e9bbd10",
       "version_major": 2,
       "version_minor": 0
      },
      "text/plain": [
       "  0%|          | 0/100 [00:00<?, ?it/s]"
      ]
     },
     "metadata": {},
     "output_type": "display_data"
    },
    {
     "data": {
      "application/vnd.jupyter.widget-view+json": {
       "model_id": "1832681854d8474c8f505127eae732f3",
       "version_major": 2,
       "version_minor": 0
      },
      "text/plain": [
       "  0%|          | 0/100 [00:00<?, ?it/s]"
      ]
     },
     "metadata": {},
     "output_type": "display_data"
    },
    {
     "data": {
      "application/vnd.jupyter.widget-view+json": {
       "model_id": "445a2fa0c47e458ea9ff31ef59679ac9",
       "version_major": 2,
       "version_minor": 0
      },
      "text/plain": [
       "  0%|          | 0/100 [00:00<?, ?it/s]"
      ]
     },
     "metadata": {},
     "output_type": "display_data"
    },
    {
     "data": {
      "application/vnd.jupyter.widget-view+json": {
       "model_id": "ce803178df034c94a85300428ff6f44e",
       "version_major": 2,
       "version_minor": 0
      },
      "text/plain": [
       "  0%|          | 0/100 [00:00<?, ?it/s]"
      ]
     },
     "metadata": {},
     "output_type": "display_data"
    },
    {
     "data": {
      "application/vnd.jupyter.widget-view+json": {
       "model_id": "3869ca1929384a6797a69fd82169cd65",
       "version_major": 2,
       "version_minor": 0
      },
      "text/plain": [
       "  0%|          | 0/100 [00:00<?, ?it/s]"
      ]
     },
     "metadata": {},
     "output_type": "display_data"
    },
    {
     "data": {
      "application/vnd.jupyter.widget-view+json": {
       "model_id": "3d5e07acdfe5401b91bb79834b5b9241",
       "version_major": 2,
       "version_minor": 0
      },
      "text/plain": [
       "  0%|          | 0/100 [00:00<?, ?it/s]"
      ]
     },
     "metadata": {},
     "output_type": "display_data"
    },
    {
     "data": {
      "application/vnd.jupyter.widget-view+json": {
       "model_id": "58a2bb9bd93d4db196ca9b915bb8f28a",
       "version_major": 2,
       "version_minor": 0
      },
      "text/plain": [
       "  0%|          | 0/100 [00:00<?, ?it/s]"
      ]
     },
     "metadata": {},
     "output_type": "display_data"
    },
    {
     "data": {
      "application/vnd.jupyter.widget-view+json": {
       "model_id": "6a07da0ab9b042e9bbcaafded3a7635a",
       "version_major": 2,
       "version_minor": 0
      },
      "text/plain": [
       "  0%|          | 0/100 [00:00<?, ?it/s]"
      ]
     },
     "metadata": {},
     "output_type": "display_data"
    },
    {
     "data": {
      "application/vnd.jupyter.widget-view+json": {
       "model_id": "43d81d7159fd46819200f7e7745aad4a",
       "version_major": 2,
       "version_minor": 0
      },
      "text/plain": [
       "  0%|          | 0/100 [00:00<?, ?it/s]"
      ]
     },
     "metadata": {},
     "output_type": "display_data"
    },
    {
     "data": {
      "application/vnd.jupyter.widget-view+json": {
       "model_id": "dbc61ce8247a4368a3dbbfe392763176",
       "version_major": 2,
       "version_minor": 0
      },
      "text/plain": [
       "  0%|          | 0/100 [00:00<?, ?it/s]"
      ]
     },
     "metadata": {},
     "output_type": "display_data"
    },
    {
     "data": {
      "application/vnd.jupyter.widget-view+json": {
       "model_id": "b31b5e3ffb58457bb12ab32c47894245",
       "version_major": 2,
       "version_minor": 0
      },
      "text/plain": [
       "  0%|          | 0/80 [00:00<?, ?it/s]"
      ]
     },
     "metadata": {},
     "output_type": "display_data"
    }
   ],
   "source": [
    "submission_task('Task486_NDHL')"
   ]
  },
  {
   "cell_type": "code",
   "execution_count": null,
   "metadata": {},
   "outputs": [
    {
     "data": {
      "application/vnd.jupyter.widget-view+json": {
       "model_id": "ca29a355eb38484595e21a1f2034b2bf",
       "version_major": 2,
       "version_minor": 0
      },
      "text/plain": [
       "  0%|          | 0/14 [00:00<?, ?it/s]"
      ]
     },
     "metadata": {},
     "output_type": "display_data"
    },
    {
     "data": {
      "application/vnd.jupyter.widget-view+json": {
       "model_id": "3a9e8685cfd0456dbed1272ea2b459a4",
       "version_major": 2,
       "version_minor": 0
      },
      "text/plain": [
       "  0%|          | 0/100 [00:00<?, ?it/s]"
      ]
     },
     "metadata": {},
     "output_type": "display_data"
    },
    {
     "name": "stdout",
     "output_type": "stream",
     "text": [
      "Exception occurred. -> img_00063\n"
     ]
    },
    {
     "data": {
      "application/vnd.jupyter.widget-view+json": {
       "model_id": "9b89b19904ab4ad09b064f67033bc532",
       "version_major": 2,
       "version_minor": 0
      },
      "text/plain": [
       "  0%|          | 0/100 [00:00<?, ?it/s]"
      ]
     },
     "metadata": {},
     "output_type": "display_data"
    },
    {
     "data": {
      "application/vnd.jupyter.widget-view+json": {
       "model_id": "f4784582bf6844f59dc35fc7d38be224",
       "version_major": 2,
       "version_minor": 0
      },
      "text/plain": [
       "  0%|          | 0/100 [00:00<?, ?it/s]"
      ]
     },
     "metadata": {},
     "output_type": "display_data"
    },
    {
     "data": {
      "application/vnd.jupyter.widget-view+json": {
       "model_id": "b757a7bce75248e89663dc8a12db17b9",
       "version_major": 2,
       "version_minor": 0
      },
      "text/plain": [
       "  0%|          | 0/100 [00:00<?, ?it/s]"
      ]
     },
     "metadata": {},
     "output_type": "display_data"
    },
    {
     "name": "stdout",
     "output_type": "stream",
     "text": [
      "Exception occurred. -> img_00360\n"
     ]
    },
    {
     "data": {
      "application/vnd.jupyter.widget-view+json": {
       "model_id": "f52d70d75c3d45028646c8d65a6ee173",
       "version_major": 2,
       "version_minor": 0
      },
      "text/plain": [
       "  0%|          | 0/100 [00:00<?, ?it/s]"
      ]
     },
     "metadata": {},
     "output_type": "display_data"
    },
    {
     "data": {
      "application/vnd.jupyter.widget-view+json": {
       "model_id": "294fe0428dd949aa8187ba6dd8584a46",
       "version_major": 2,
       "version_minor": 0
      },
      "text/plain": [
       "  0%|          | 0/100 [00:00<?, ?it/s]"
      ]
     },
     "metadata": {},
     "output_type": "display_data"
    },
    {
     "data": {
      "application/vnd.jupyter.widget-view+json": {
       "model_id": "04fbb4a15e42484b89bf8742636290ee",
       "version_major": 2,
       "version_minor": 0
      },
      "text/plain": [
       "  0%|          | 0/100 [00:00<?, ?it/s]"
      ]
     },
     "metadata": {},
     "output_type": "display_data"
    }
   ],
   "source": [
    "submission_task('Task487_CLALM3MT')"
   ]
  },
  {
   "cell_type": "code",
   "execution_count": null,
   "metadata": {},
   "outputs": [],
   "source": [
    "submission_task('Task488_CLALUCUK')"
   ]
  },
  {
   "cell_type": "code",
   "execution_count": 64,
   "metadata": {},
   "outputs": [],
   "source": [
    "# Task_input : 'Task480_GRSR', 'Task481_NDDR', 'Task482_BFCR', 'Task483_MSCR', 'Task484_SIRL', \n",
    "#              'Task485_GRSL', 'Task486_NDHL', 'Task487_CLALM3MT', 'Task488_CLALUCUK'\n",
    "\n",
    "# PN_list = os.listdir('./models/result')\n",
    "# PN_list.sort()\n",
    "\n",
    "img_list = subfiles('/mnt/dataset/test_set', join=False, suffix='.png')\n",
    "\n",
    "for img_l in img_list:\n",
    "    img_name, _ = os.path.splitext(img_l)\n",
    "\n",
    "\n",
    "\n",
    "#         ctarr = np.array(nib.load('./models/temp/convert_data/nnUNet/nnunet/nnUNet_raw_data_base/nnUNet_raw_data/Task555_PETCT/imagesTs/{}_0000.nii.gz'.format(pn)).dataobj)\n",
    "#         pred_arr = np.array(nib.load('./models/result/{}.nii.gz'.format(pn)).dataobj)\n",
    "\n",
    "    #Calculate Mean SUV and Max SUV\n",
    "    \n",
    "#     class_NUM = random.randrange(9)\n",
    "    class_NUM = 'None'\n",
    "    \n",
    "    x_1 = 'None'\n",
    "    x_2 = 'None'\n",
    "    x_3 = 'None'\n",
    "    x_4 = 'None'\n",
    "    x_5 = 'None'\n",
    "    x_6 = 'None'\n",
    "    x_7 = 'None'\n",
    "    x_8 = 'None'\n",
    "    x_9 = 'None'\n",
    "    x_10 = 'None'\n",
    "\n",
    "    y_1 = 'None'\n",
    "    y_2 = 'None'\n",
    "    y_3 = 'None'\n",
    "    y_4 = 'None'\n",
    "    y_5 = 'None'\n",
    "    y_6 = 'None'\n",
    "    y_7 = 'None'\n",
    "    y_8 = 'None'\n",
    "    y_9 = 'None'\n",
    "    y_10 = 'None'\n",
    "\n",
    "#     suvmax, suvmean = get_suv_params(ptarr, pred_arr)\n",
    "\n",
    "\n",
    "#         data = {'case' : [PATIENT_NUM], 'PD_Aorta_volume' : [aorvol], 'PD_SUVmean' : [suvmean]}\n",
    "    data = {'file' : [img_name], 'class' : [class_NUM], 'x1' : [x_1], 'y1' : [y_1],\n",
    "            'x2' : [x_2], 'y2' : [y_2], 'x3' : [x_3], 'y3' : [y_3],\n",
    "            'x4' : [x_4], 'y4' : [y_4], 'x5' : [x_5], 'y5' : [y_5],\n",
    "            'x6' : [x_6], 'y6' : [y_6], 'x7' : [x_7], 'y7' : [y_7],\n",
    "            'x8' : [x_8], 'y8' : [y_8], 'x9' : [x_9], 'y9' : [y_9], 'x10' : [x_10], 'y10' : [y_10]}\n",
    "    df = pd.DataFrame(data)\n",
    "\n",
    "    # .to_csv\n",
    "    if not os.path.exists('submission.csv'):\n",
    "        df.to_csv('submission.csv', index=False, mode='w')\n",
    "    else:\n",
    "        df.to_csv('submission.csv', index=False, mode='a', header=False)\n"
   ]
  },
  {
   "cell_type": "code",
   "execution_count": null,
   "metadata": {},
   "outputs": [],
   "source": []
  },
  {
   "cell_type": "code",
   "execution_count": null,
   "metadata": {},
   "outputs": [],
   "source": []
  },
  {
   "cell_type": "code",
   "execution_count": null,
   "metadata": {},
   "outputs": [],
   "source": [
    "os.listdir('/tf/backup/working/nnUNet/nnunet/nnUNet_trained_models/nnUNet/2d/')"
   ]
  },
  {
   "cell_type": "code",
   "execution_count": 44,
   "metadata": {},
   "outputs": [],
   "source": [
    "import shutil\n",
    "\n",
    "for i in range(5):\n",
    "    shutil.copytree('/tf/backup/working/nnUNet/nnunet/nnUNet_trained_models/nnUNet/2d/Task488_CLALUCUK/nnUNetTrainerV2__nnUNetPlansv2.1/all', '/tf/backup/working/nnUNet/nnunet/nnUNet_trained_models/nnUNet/2d/Task488_CLALUCUK/nnUNetTrainerV2__nnUNetPlansv2.1/fold_{}'.format(i))\n"
   ]
  }
 ],
 "metadata": {
  "kernelspec": {
   "display_name": "Python 3",
   "language": "python",
   "name": "python3"
  },
  "language_info": {
   "codemirror_mode": {
    "name": "ipython",
    "version": 3
   },
   "file_extension": ".py",
   "mimetype": "text/x-python",
   "name": "python",
   "nbconvert_exporter": "python",
   "pygments_lexer": "ipython3",
   "version": "3.8.10"
  }
 },
 "nbformat": 4,
 "nbformat_minor": 2
}
